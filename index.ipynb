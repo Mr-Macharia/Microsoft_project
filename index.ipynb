{
 "cells": [
  {
   "cell_type": "markdown",
   "id": "f2d56443",
   "metadata": {},
   "source": [
    "# Microsoft Studios Project"
   ]
  },
  {
   "cell_type": "markdown",
   "id": "9984db8c",
   "metadata": {},
   "source": [
    "## Business Problem"
   ]
  },
  {
   "cell_type": "markdown",
   "id": "d3fad59a",
   "metadata": {},
   "source": [
    "Microsft wants to create a new movie studio and I am exploring the films that are currently doing the best at the box office. I am planning to translate all the findings into actionable insights that the head of Microsoft new movie studio can help decide what type of films to create"
   ]
  },
  {
   "cell_type": "markdown",
   "id": "7a253f80",
   "metadata": {},
   "source": [
    "## Data Understanding\n",
    "The first thing I am doing is understanding the data that I have. This means that I'll be reading the details in the data, understanding their classifications and records provided and also get aview of what I need to do with the data. The first thing I need to do is see the ccontents of different tables and data"
   ]
  },
  {
   "cell_type": "markdown",
   "id": "ad0ba9c6",
   "metadata": {},
   "source": [
    "### Data Screening\n",
    "I will start by investigating the data in different steps in an approach to find a way to interprete the data"
   ]
  },
  {
   "cell_type": "code",
   "execution_count": 1,
   "id": "6e9230a0",
   "metadata": {},
   "outputs": [],
   "source": [
    "# Importing the relevant packages that will be used in the screeening\n",
    "import pandas as pd\n",
    "import numpy as np\n",
    "import sqlite3"
   ]
  },
  {
   "cell_type": "markdown",
   "id": "fdcf1ab1",
   "metadata": {},
   "source": [
    "Next we start by creating tables to gain an understanding of the contents of the data. This works hand in hand with the assistance of the imported packages that we have imported"
   ]
  },
  {
   "cell_type": "code",
   "execution_count": 2,
   "id": "a46a97d4",
   "metadata": {},
   "outputs": [
    {
     "data": {
      "text/html": [
       "<div>\n",
       "<style scoped>\n",
       "    .dataframe tbody tr th:only-of-type {\n",
       "        vertical-align: middle;\n",
       "    }\n",
       "\n",
       "    .dataframe tbody tr th {\n",
       "        vertical-align: top;\n",
       "    }\n",
       "\n",
       "    .dataframe thead th {\n",
       "        text-align: right;\n",
       "    }\n",
       "</style>\n",
       "<table border=\"1\" class=\"dataframe\">\n",
       "  <thead>\n",
       "    <tr style=\"text-align: right;\">\n",
       "      <th></th>\n",
       "      <th>title</th>\n",
       "      <th>studio</th>\n",
       "      <th>domestic_gross</th>\n",
       "      <th>foreign_gross</th>\n",
       "      <th>year</th>\n",
       "    </tr>\n",
       "  </thead>\n",
       "  <tbody>\n",
       "    <tr>\n",
       "      <th>0</th>\n",
       "      <td>Toy Story 3</td>\n",
       "      <td>BV</td>\n",
       "      <td>415000000.0</td>\n",
       "      <td>652000000</td>\n",
       "      <td>2010</td>\n",
       "    </tr>\n",
       "    <tr>\n",
       "      <th>1</th>\n",
       "      <td>Alice in Wonderland (2010)</td>\n",
       "      <td>BV</td>\n",
       "      <td>334200000.0</td>\n",
       "      <td>691300000</td>\n",
       "      <td>2010</td>\n",
       "    </tr>\n",
       "    <tr>\n",
       "      <th>2</th>\n",
       "      <td>Harry Potter and the Deathly Hallows Part 1</td>\n",
       "      <td>WB</td>\n",
       "      <td>296000000.0</td>\n",
       "      <td>664300000</td>\n",
       "      <td>2010</td>\n",
       "    </tr>\n",
       "  </tbody>\n",
       "</table>\n",
       "</div>"
      ],
      "text/plain": [
       "                                         title studio  domestic_gross  \\\n",
       "0                                  Toy Story 3     BV     415000000.0   \n",
       "1                   Alice in Wonderland (2010)     BV     334200000.0   \n",
       "2  Harry Potter and the Deathly Hallows Part 1     WB     296000000.0   \n",
       "\n",
       "  foreign_gross  year  \n",
       "0     652000000  2010  \n",
       "1     691300000  2010  \n",
       "2     664300000  2010  "
      ]
     },
     "execution_count": 2,
     "metadata": {},
     "output_type": "execute_result"
    }
   ],
   "source": [
    "#Reading a CSV file in apandas data frame\n",
    "df_gross = pd.read_csv('bom.movie_gross.csv')\n",
    "\n",
    "#Taking a look at the first 3 rows of data\n",
    "df_gross.head(3)"
   ]
  },
  {
   "cell_type": "code",
   "execution_count": 3,
   "id": "b7f6e3fc",
   "metadata": {},
   "outputs": [
    {
     "data": {
      "text/html": [
       "<div>\n",
       "<style scoped>\n",
       "    .dataframe tbody tr th:only-of-type {\n",
       "        vertical-align: middle;\n",
       "    }\n",
       "\n",
       "    .dataframe tbody tr th {\n",
       "        vertical-align: top;\n",
       "    }\n",
       "\n",
       "    .dataframe thead th {\n",
       "        text-align: right;\n",
       "    }\n",
       "</style>\n",
       "<table border=\"1\" class=\"dataframe\">\n",
       "  <thead>\n",
       "    <tr style=\"text-align: right;\">\n",
       "      <th></th>\n",
       "      <th>id</th>\n",
       "      <th>release_date</th>\n",
       "      <th>movie</th>\n",
       "      <th>production_budget</th>\n",
       "      <th>domestic_gross</th>\n",
       "      <th>worldwide_gross</th>\n",
       "    </tr>\n",
       "  </thead>\n",
       "  <tbody>\n",
       "    <tr>\n",
       "      <th>0</th>\n",
       "      <td>1</td>\n",
       "      <td>Dec 18, 2009</td>\n",
       "      <td>Avatar</td>\n",
       "      <td>$425,000,000</td>\n",
       "      <td>$760,507,625</td>\n",
       "      <td>$2,776,345,279</td>\n",
       "    </tr>\n",
       "    <tr>\n",
       "      <th>1</th>\n",
       "      <td>2</td>\n",
       "      <td>May 20, 2011</td>\n",
       "      <td>Pirates of the Caribbean: On Stranger Tides</td>\n",
       "      <td>$410,600,000</td>\n",
       "      <td>$241,063,875</td>\n",
       "      <td>$1,045,663,875</td>\n",
       "    </tr>\n",
       "    <tr>\n",
       "      <th>2</th>\n",
       "      <td>3</td>\n",
       "      <td>Jun 7, 2019</td>\n",
       "      <td>Dark Phoenix</td>\n",
       "      <td>$350,000,000</td>\n",
       "      <td>$42,762,350</td>\n",
       "      <td>$149,762,350</td>\n",
       "    </tr>\n",
       "  </tbody>\n",
       "</table>\n",
       "</div>"
      ],
      "text/plain": [
       "   id  release_date                                        movie  \\\n",
       "0   1  Dec 18, 2009                                       Avatar   \n",
       "1   2  May 20, 2011  Pirates of the Caribbean: On Stranger Tides   \n",
       "2   3   Jun 7, 2019                                 Dark Phoenix   \n",
       "\n",
       "  production_budget domestic_gross worldwide_gross  \n",
       "0      $425,000,000   $760,507,625  $2,776,345,279  \n",
       "1      $410,600,000   $241,063,875  $1,045,663,875  \n",
       "2      $350,000,000    $42,762,350    $149,762,350  "
      ]
     },
     "execution_count": 3,
     "metadata": {},
     "output_type": "execute_result"
    }
   ],
   "source": [
    "#Reading a CSV file in apandas data frame\n",
    "df_budgets = pd.read_csv('tn.movie_budgets.csv')\n",
    "\n",
    "#Taking a look at the first 3 rows of data\n",
    "df_budgets.head(3)"
   ]
  },
  {
   "cell_type": "code",
   "execution_count": 4,
   "id": "eb131c74",
   "metadata": {},
   "outputs": [
    {
     "data": {
      "text/html": [
       "<div>\n",
       "<style scoped>\n",
       "    .dataframe tbody tr th:only-of-type {\n",
       "        vertical-align: middle;\n",
       "    }\n",
       "\n",
       "    .dataframe tbody tr th {\n",
       "        vertical-align: top;\n",
       "    }\n",
       "\n",
       "    .dataframe thead th {\n",
       "        text-align: right;\n",
       "    }\n",
       "</style>\n",
       "<table border=\"1\" class=\"dataframe\">\n",
       "  <thead>\n",
       "    <tr style=\"text-align: right;\">\n",
       "      <th></th>\n",
       "      <th>Unnamed: 0</th>\n",
       "      <th>genre_ids</th>\n",
       "      <th>id</th>\n",
       "      <th>original_language</th>\n",
       "      <th>original_title</th>\n",
       "      <th>popularity</th>\n",
       "      <th>release_date</th>\n",
       "      <th>title</th>\n",
       "      <th>vote_average</th>\n",
       "      <th>vote_count</th>\n",
       "    </tr>\n",
       "  </thead>\n",
       "  <tbody>\n",
       "    <tr>\n",
       "      <th>0</th>\n",
       "      <td>0</td>\n",
       "      <td>[12, 14, 10751]</td>\n",
       "      <td>12444</td>\n",
       "      <td>en</td>\n",
       "      <td>Harry Potter and the Deathly Hallows: Part 1</td>\n",
       "      <td>33.533</td>\n",
       "      <td>2010-11-19</td>\n",
       "      <td>Harry Potter and the Deathly Hallows: Part 1</td>\n",
       "      <td>7.7</td>\n",
       "      <td>10788</td>\n",
       "    </tr>\n",
       "    <tr>\n",
       "      <th>1</th>\n",
       "      <td>1</td>\n",
       "      <td>[14, 12, 16, 10751]</td>\n",
       "      <td>10191</td>\n",
       "      <td>en</td>\n",
       "      <td>How to Train Your Dragon</td>\n",
       "      <td>28.734</td>\n",
       "      <td>2010-03-26</td>\n",
       "      <td>How to Train Your Dragon</td>\n",
       "      <td>7.7</td>\n",
       "      <td>7610</td>\n",
       "    </tr>\n",
       "    <tr>\n",
       "      <th>2</th>\n",
       "      <td>2</td>\n",
       "      <td>[12, 28, 878]</td>\n",
       "      <td>10138</td>\n",
       "      <td>en</td>\n",
       "      <td>Iron Man 2</td>\n",
       "      <td>28.515</td>\n",
       "      <td>2010-05-07</td>\n",
       "      <td>Iron Man 2</td>\n",
       "      <td>6.8</td>\n",
       "      <td>12368</td>\n",
       "    </tr>\n",
       "  </tbody>\n",
       "</table>\n",
       "</div>"
      ],
      "text/plain": [
       "   Unnamed: 0            genre_ids     id original_language  \\\n",
       "0           0      [12, 14, 10751]  12444                en   \n",
       "1           1  [14, 12, 16, 10751]  10191                en   \n",
       "2           2        [12, 28, 878]  10138                en   \n",
       "\n",
       "                                 original_title  popularity release_date  \\\n",
       "0  Harry Potter and the Deathly Hallows: Part 1      33.533   2010-11-19   \n",
       "1                      How to Train Your Dragon      28.734   2010-03-26   \n",
       "2                                    Iron Man 2      28.515   2010-05-07   \n",
       "\n",
       "                                          title  vote_average  vote_count  \n",
       "0  Harry Potter and the Deathly Hallows: Part 1           7.7       10788  \n",
       "1                      How to Train Your Dragon           7.7        7610  \n",
       "2                                    Iron Man 2           6.8       12368  "
      ]
     },
     "execution_count": 4,
     "metadata": {},
     "output_type": "execute_result"
    }
   ],
   "source": [
    "#Reading a CSV file in apandas data frame\n",
    "df_tmdb = pd.read_csv('tmdb.movies.csv')\n",
    "\n",
    "#Taking a look at the first 3 rows of data\n",
    "df_tmdb.head(3)"
   ]
  },
  {
   "cell_type": "code",
   "execution_count": 5,
   "id": "031d114e",
   "metadata": {},
   "outputs": [
    {
     "name": "stderr",
     "output_type": "stream",
     "text": [
      "C:\\Users\\USER\\AppData\\Local\\Temp\\ipykernel_14436\\4052493010.py:3: FutureWarning: The error_bad_lines argument has been deprecated and will be removed in a future version. Use on_bad_lines in the future.\n",
      "\n",
      "\n",
      "  df_rt = pd.read_csv('rt.movie_info.tsv', sep='\\t', error_bad_lines=False)\n"
     ]
    },
    {
     "data": {
      "text/html": [
       "<div>\n",
       "<style scoped>\n",
       "    .dataframe tbody tr th:only-of-type {\n",
       "        vertical-align: middle;\n",
       "    }\n",
       "\n",
       "    .dataframe tbody tr th {\n",
       "        vertical-align: top;\n",
       "    }\n",
       "\n",
       "    .dataframe thead th {\n",
       "        text-align: right;\n",
       "    }\n",
       "</style>\n",
       "<table border=\"1\" class=\"dataframe\">\n",
       "  <thead>\n",
       "    <tr style=\"text-align: right;\">\n",
       "      <th></th>\n",
       "      <th>id</th>\n",
       "      <th>synopsis</th>\n",
       "      <th>rating</th>\n",
       "      <th>genre</th>\n",
       "      <th>director</th>\n",
       "      <th>writer</th>\n",
       "      <th>theater_date</th>\n",
       "      <th>dvd_date</th>\n",
       "      <th>currency</th>\n",
       "      <th>box_office</th>\n",
       "      <th>runtime</th>\n",
       "      <th>studio</th>\n",
       "    </tr>\n",
       "  </thead>\n",
       "  <tbody>\n",
       "    <tr>\n",
       "      <th>0</th>\n",
       "      <td>1</td>\n",
       "      <td>This gritty, fast-paced, and innovative police...</td>\n",
       "      <td>R</td>\n",
       "      <td>Action and Adventure|Classics|Drama</td>\n",
       "      <td>William Friedkin</td>\n",
       "      <td>Ernest Tidyman</td>\n",
       "      <td>Oct 9, 1971</td>\n",
       "      <td>Sep 25, 2001</td>\n",
       "      <td>NaN</td>\n",
       "      <td>NaN</td>\n",
       "      <td>104 minutes</td>\n",
       "      <td>NaN</td>\n",
       "    </tr>\n",
       "    <tr>\n",
       "      <th>1</th>\n",
       "      <td>3</td>\n",
       "      <td>New York City, not-too-distant-future: Eric Pa...</td>\n",
       "      <td>R</td>\n",
       "      <td>Drama|Science Fiction and Fantasy</td>\n",
       "      <td>David Cronenberg</td>\n",
       "      <td>David Cronenberg|Don DeLillo</td>\n",
       "      <td>Aug 17, 2012</td>\n",
       "      <td>Jan 1, 2013</td>\n",
       "      <td>$</td>\n",
       "      <td>600,000</td>\n",
       "      <td>108 minutes</td>\n",
       "      <td>Entertainment One</td>\n",
       "    </tr>\n",
       "    <tr>\n",
       "      <th>2</th>\n",
       "      <td>5</td>\n",
       "      <td>Illeana Douglas delivers a superb performance ...</td>\n",
       "      <td>R</td>\n",
       "      <td>Drama|Musical and Performing Arts</td>\n",
       "      <td>Allison Anders</td>\n",
       "      <td>Allison Anders</td>\n",
       "      <td>Sep 13, 1996</td>\n",
       "      <td>Apr 18, 2000</td>\n",
       "      <td>NaN</td>\n",
       "      <td>NaN</td>\n",
       "      <td>116 minutes</td>\n",
       "      <td>NaN</td>\n",
       "    </tr>\n",
       "  </tbody>\n",
       "</table>\n",
       "</div>"
      ],
      "text/plain": [
       "   id                                           synopsis rating  \\\n",
       "0   1  This gritty, fast-paced, and innovative police...      R   \n",
       "1   3  New York City, not-too-distant-future: Eric Pa...      R   \n",
       "2   5  Illeana Douglas delivers a superb performance ...      R   \n",
       "\n",
       "                                 genre          director  \\\n",
       "0  Action and Adventure|Classics|Drama  William Friedkin   \n",
       "1    Drama|Science Fiction and Fantasy  David Cronenberg   \n",
       "2    Drama|Musical and Performing Arts    Allison Anders   \n",
       "\n",
       "                         writer  theater_date      dvd_date currency  \\\n",
       "0                Ernest Tidyman   Oct 9, 1971  Sep 25, 2001      NaN   \n",
       "1  David Cronenberg|Don DeLillo  Aug 17, 2012   Jan 1, 2013        $   \n",
       "2                Allison Anders  Sep 13, 1996  Apr 18, 2000      NaN   \n",
       "\n",
       "  box_office      runtime             studio  \n",
       "0        NaN  104 minutes                NaN  \n",
       "1    600,000  108 minutes  Entertainment One  \n",
       "2        NaN  116 minutes                NaN  "
      ]
     },
     "execution_count": 5,
     "metadata": {},
     "output_type": "execute_result"
    }
   ],
   "source": [
    "#Reading a TSV file in apandas data frame\n",
    "#I encountered an error and realised that I have to seperate the tabs and remove the badlines in the file\n",
    "df_rt = pd.read_csv('rt.movie_info.tsv', sep='\\t', error_bad_lines=False)\n",
    "\n",
    "\n",
    "#Taking a look at the first 3 rows of data\n",
    "df_rt.head(3)"
   ]
  },
  {
   "cell_type": "markdown",
   "id": "609774ae",
   "metadata": {},
   "source": [
    "Next we are reading from one CSV file but from the different tables provided for us within the file"
   ]
  },
  {
   "cell_type": "code",
   "execution_count": 6,
   "id": "abed566a",
   "metadata": {},
   "outputs": [],
   "source": [
    "#To read a CSV file we first need a connection and to create a connection we'll use the code below\n",
    "conn = sqlite3.connect('im.db')"
   ]
  },
  {
   "cell_type": "code",
   "execution_count": 7,
   "id": "ee956b89",
   "metadata": {},
   "outputs": [
    {
     "data": {
      "text/html": [
       "<div>\n",
       "<style scoped>\n",
       "    .dataframe tbody tr th:only-of-type {\n",
       "        vertical-align: middle;\n",
       "    }\n",
       "\n",
       "    .dataframe tbody tr th {\n",
       "        vertical-align: top;\n",
       "    }\n",
       "\n",
       "    .dataframe thead th {\n",
       "        text-align: right;\n",
       "    }\n",
       "</style>\n",
       "<table border=\"1\" class=\"dataframe\">\n",
       "  <thead>\n",
       "    <tr style=\"text-align: right;\">\n",
       "      <th></th>\n",
       "      <th>movie_id</th>\n",
       "      <th>primary_title</th>\n",
       "      <th>original_title</th>\n",
       "      <th>start_year</th>\n",
       "      <th>runtime_minutes</th>\n",
       "      <th>genres</th>\n",
       "    </tr>\n",
       "  </thead>\n",
       "  <tbody>\n",
       "    <tr>\n",
       "      <th>0</th>\n",
       "      <td>tt0063540</td>\n",
       "      <td>Sunghursh</td>\n",
       "      <td>Sunghursh</td>\n",
       "      <td>2013</td>\n",
       "      <td>175.0</td>\n",
       "      <td>Action,Crime,Drama</td>\n",
       "    </tr>\n",
       "    <tr>\n",
       "      <th>1</th>\n",
       "      <td>tt0066787</td>\n",
       "      <td>One Day Before the Rainy Season</td>\n",
       "      <td>Ashad Ka Ek Din</td>\n",
       "      <td>2019</td>\n",
       "      <td>114.0</td>\n",
       "      <td>Biography,Drama</td>\n",
       "    </tr>\n",
       "    <tr>\n",
       "      <th>2</th>\n",
       "      <td>tt0069049</td>\n",
       "      <td>The Other Side of the Wind</td>\n",
       "      <td>The Other Side of the Wind</td>\n",
       "      <td>2018</td>\n",
       "      <td>122.0</td>\n",
       "      <td>Drama</td>\n",
       "    </tr>\n",
       "  </tbody>\n",
       "</table>\n",
       "</div>"
      ],
      "text/plain": [
       "    movie_id                    primary_title              original_title  \\\n",
       "0  tt0063540                        Sunghursh                   Sunghursh   \n",
       "1  tt0066787  One Day Before the Rainy Season             Ashad Ka Ek Din   \n",
       "2  tt0069049       The Other Side of the Wind  The Other Side of the Wind   \n",
       "\n",
       "   start_year  runtime_minutes              genres  \n",
       "0        2013            175.0  Action,Crime,Drama  \n",
       "1        2019            114.0     Biography,Drama  \n",
       "2        2018            122.0               Drama  "
      ]
     },
     "execution_count": 7,
     "metadata": {},
     "output_type": "execute_result"
    }
   ],
   "source": [
    "#To avoid constant retyping we'll assign the variable q to the SQL\n",
    "q = (\"\"\"\n",
    "SELECT *\n",
    "FROM movie_basics\n",
    "\"\"\")\n",
    "\n",
    "# Next we create a pandas data frame to read the file as the ones above\n",
    "df_imdb_basics = pd.read_sql(q, conn)\n",
    "\n",
    "#Taking a look at the first 3 rows of data\n",
    "df_imdb_basics.head(3)"
   ]
  },
  {
   "cell_type": "code",
   "execution_count": 8,
   "id": "f9b61741",
   "metadata": {},
   "outputs": [
    {
     "data": {
      "text/html": [
       "<div>\n",
       "<style scoped>\n",
       "    .dataframe tbody tr th:only-of-type {\n",
       "        vertical-align: middle;\n",
       "    }\n",
       "\n",
       "    .dataframe tbody tr th {\n",
       "        vertical-align: top;\n",
       "    }\n",
       "\n",
       "    .dataframe thead th {\n",
       "        text-align: right;\n",
       "    }\n",
       "</style>\n",
       "<table border=\"1\" class=\"dataframe\">\n",
       "  <thead>\n",
       "    <tr style=\"text-align: right;\">\n",
       "      <th></th>\n",
       "      <th>movie_id</th>\n",
       "      <th>averagerating</th>\n",
       "      <th>numvotes</th>\n",
       "    </tr>\n",
       "  </thead>\n",
       "  <tbody>\n",
       "    <tr>\n",
       "      <th>0</th>\n",
       "      <td>tt10356526</td>\n",
       "      <td>8.3</td>\n",
       "      <td>31</td>\n",
       "    </tr>\n",
       "    <tr>\n",
       "      <th>1</th>\n",
       "      <td>tt10384606</td>\n",
       "      <td>8.9</td>\n",
       "      <td>559</td>\n",
       "    </tr>\n",
       "    <tr>\n",
       "      <th>2</th>\n",
       "      <td>tt1042974</td>\n",
       "      <td>6.4</td>\n",
       "      <td>20</td>\n",
       "    </tr>\n",
       "  </tbody>\n",
       "</table>\n",
       "</div>"
      ],
      "text/plain": [
       "     movie_id  averagerating  numvotes\n",
       "0  tt10356526            8.3        31\n",
       "1  tt10384606            8.9       559\n",
       "2   tt1042974            6.4        20"
      ]
     },
     "execution_count": 8,
     "metadata": {},
     "output_type": "execute_result"
    }
   ],
   "source": [
    "#To avoid constant retyping we'll assign the variable q to the SQL\n",
    "q = (\"\"\"\n",
    "SELECT *\n",
    "FROM movie_ratings\n",
    "\"\"\")\n",
    "\n",
    "# Next we create a pandas data frame to read the file as the ones above\n",
    "df_imdb_ratings = pd.read_sql(q, conn)\n",
    "\n",
    "#Taking a look at the first 3 rows of data\n",
    "df_imdb_ratings.head(3)"
   ]
  },
  {
   "cell_type": "code",
   "execution_count": 9,
   "id": "3fd915f2",
   "metadata": {},
   "outputs": [
    {
     "data": {
      "text/html": [
       "<div>\n",
       "<style scoped>\n",
       "    .dataframe tbody tr th:only-of-type {\n",
       "        vertical-align: middle;\n",
       "    }\n",
       "\n",
       "    .dataframe tbody tr th {\n",
       "        vertical-align: top;\n",
       "    }\n",
       "\n",
       "    .dataframe thead th {\n",
       "        text-align: right;\n",
       "    }\n",
       "</style>\n",
       "<table border=\"1\" class=\"dataframe\">\n",
       "  <thead>\n",
       "    <tr style=\"text-align: right;\">\n",
       "      <th></th>\n",
       "      <th>person_id</th>\n",
       "      <th>primary_name</th>\n",
       "      <th>birth_year</th>\n",
       "      <th>death_year</th>\n",
       "      <th>primary_profession</th>\n",
       "    </tr>\n",
       "  </thead>\n",
       "  <tbody>\n",
       "    <tr>\n",
       "      <th>0</th>\n",
       "      <td>nm0061671</td>\n",
       "      <td>Mary Ellen Bauder</td>\n",
       "      <td>NaN</td>\n",
       "      <td>NaN</td>\n",
       "      <td>miscellaneous,production_manager,producer</td>\n",
       "    </tr>\n",
       "    <tr>\n",
       "      <th>1</th>\n",
       "      <td>nm0061865</td>\n",
       "      <td>Joseph Bauer</td>\n",
       "      <td>NaN</td>\n",
       "      <td>NaN</td>\n",
       "      <td>composer,music_department,sound_department</td>\n",
       "    </tr>\n",
       "    <tr>\n",
       "      <th>2</th>\n",
       "      <td>nm0062070</td>\n",
       "      <td>Bruce Baum</td>\n",
       "      <td>NaN</td>\n",
       "      <td>NaN</td>\n",
       "      <td>miscellaneous,actor,writer</td>\n",
       "    </tr>\n",
       "  </tbody>\n",
       "</table>\n",
       "</div>"
      ],
      "text/plain": [
       "   person_id       primary_name  birth_year  death_year  \\\n",
       "0  nm0061671  Mary Ellen Bauder         NaN         NaN   \n",
       "1  nm0061865       Joseph Bauer         NaN         NaN   \n",
       "2  nm0062070         Bruce Baum         NaN         NaN   \n",
       "\n",
       "                           primary_profession  \n",
       "0   miscellaneous,production_manager,producer  \n",
       "1  composer,music_department,sound_department  \n",
       "2                  miscellaneous,actor,writer  "
      ]
     },
     "execution_count": 9,
     "metadata": {},
     "output_type": "execute_result"
    }
   ],
   "source": [
    "#To avoid constant retyping we'll assign the variable q to the SQL\n",
    "q = (\"\"\"\n",
    "SELECT *\n",
    "FROM persons\n",
    "\"\"\")\n",
    "\n",
    "# Next we create a pandas data frame to read the file as the ones above\n",
    "df_imdb_person = pd.read_sql(q, conn)\n",
    "\n",
    "#Taking a look at the first 3 rows of data\n",
    "df_imdb_person.head(3)"
   ]
  },
  {
   "cell_type": "code",
   "execution_count": 10,
   "id": "fc7df29a",
   "metadata": {},
   "outputs": [
    {
     "data": {
      "text/html": [
       "<div>\n",
       "<style scoped>\n",
       "    .dataframe tbody tr th:only-of-type {\n",
       "        vertical-align: middle;\n",
       "    }\n",
       "\n",
       "    .dataframe tbody tr th {\n",
       "        vertical-align: top;\n",
       "    }\n",
       "\n",
       "    .dataframe thead th {\n",
       "        text-align: right;\n",
       "    }\n",
       "</style>\n",
       "<table border=\"1\" class=\"dataframe\">\n",
       "  <thead>\n",
       "    <tr style=\"text-align: right;\">\n",
       "      <th></th>\n",
       "      <th>person_id</th>\n",
       "      <th>movie_id</th>\n",
       "    </tr>\n",
       "  </thead>\n",
       "  <tbody>\n",
       "    <tr>\n",
       "      <th>0</th>\n",
       "      <td>nm0061671</td>\n",
       "      <td>tt0837562</td>\n",
       "    </tr>\n",
       "    <tr>\n",
       "      <th>1</th>\n",
       "      <td>nm0061671</td>\n",
       "      <td>tt2398241</td>\n",
       "    </tr>\n",
       "    <tr>\n",
       "      <th>2</th>\n",
       "      <td>nm0061671</td>\n",
       "      <td>tt0844471</td>\n",
       "    </tr>\n",
       "  </tbody>\n",
       "</table>\n",
       "</div>"
      ],
      "text/plain": [
       "   person_id   movie_id\n",
       "0  nm0061671  tt0837562\n",
       "1  nm0061671  tt2398241\n",
       "2  nm0061671  tt0844471"
      ]
     },
     "execution_count": 10,
     "metadata": {},
     "output_type": "execute_result"
    }
   ],
   "source": [
    "#To avoid constant retyping we'll assign the variable q to the SQL\n",
    "q = (\"\"\"\n",
    "SELECT *\n",
    "FROM known_for\n",
    "\"\"\")\n",
    "\n",
    "# Next we create a pandas data frame to read the file as the ones above\n",
    "df_imdb_fame = pd.read_sql(q, conn)\n",
    "\n",
    "#Taking a look at the first 3 rows of data\n",
    "df_imdb_fame.head(3)"
   ]
  },
  {
   "cell_type": "code",
   "execution_count": 11,
   "id": "c4c517ca",
   "metadata": {},
   "outputs": [
    {
     "data": {
      "text/html": [
       "<div>\n",
       "<style scoped>\n",
       "    .dataframe tbody tr th:only-of-type {\n",
       "        vertical-align: middle;\n",
       "    }\n",
       "\n",
       "    .dataframe tbody tr th {\n",
       "        vertical-align: top;\n",
       "    }\n",
       "\n",
       "    .dataframe thead th {\n",
       "        text-align: right;\n",
       "    }\n",
       "</style>\n",
       "<table border=\"1\" class=\"dataframe\">\n",
       "  <thead>\n",
       "    <tr style=\"text-align: right;\">\n",
       "      <th></th>\n",
       "      <th>movie_id</th>\n",
       "      <th>ordering</th>\n",
       "      <th>title</th>\n",
       "      <th>region</th>\n",
       "      <th>language</th>\n",
       "      <th>types</th>\n",
       "      <th>attributes</th>\n",
       "      <th>is_original_title</th>\n",
       "    </tr>\n",
       "  </thead>\n",
       "  <tbody>\n",
       "    <tr>\n",
       "      <th>0</th>\n",
       "      <td>tt0369610</td>\n",
       "      <td>10</td>\n",
       "      <td>Джурасик свят</td>\n",
       "      <td>BG</td>\n",
       "      <td>bg</td>\n",
       "      <td>None</td>\n",
       "      <td>None</td>\n",
       "      <td>0.0</td>\n",
       "    </tr>\n",
       "    <tr>\n",
       "      <th>1</th>\n",
       "      <td>tt0369610</td>\n",
       "      <td>11</td>\n",
       "      <td>Jurashikku warudo</td>\n",
       "      <td>JP</td>\n",
       "      <td>None</td>\n",
       "      <td>imdbDisplay</td>\n",
       "      <td>None</td>\n",
       "      <td>0.0</td>\n",
       "    </tr>\n",
       "    <tr>\n",
       "      <th>2</th>\n",
       "      <td>tt0369610</td>\n",
       "      <td>12</td>\n",
       "      <td>Jurassic World: O Mundo dos Dinossauros</td>\n",
       "      <td>BR</td>\n",
       "      <td>None</td>\n",
       "      <td>imdbDisplay</td>\n",
       "      <td>None</td>\n",
       "      <td>0.0</td>\n",
       "    </tr>\n",
       "  </tbody>\n",
       "</table>\n",
       "</div>"
      ],
      "text/plain": [
       "    movie_id  ordering                                    title region  \\\n",
       "0  tt0369610        10                            Джурасик свят     BG   \n",
       "1  tt0369610        11                        Jurashikku warudo     JP   \n",
       "2  tt0369610        12  Jurassic World: O Mundo dos Dinossauros     BR   \n",
       "\n",
       "  language        types attributes  is_original_title  \n",
       "0       bg         None       None                0.0  \n",
       "1     None  imdbDisplay       None                0.0  \n",
       "2     None  imdbDisplay       None                0.0  "
      ]
     },
     "execution_count": 11,
     "metadata": {},
     "output_type": "execute_result"
    }
   ],
   "source": [
    "#To avoid constant retyping we'll assign the variable q to the SQL\n",
    "q = (\"\"\"\n",
    "SELECT *\n",
    "FROM movie_akas\n",
    "\"\"\")\n",
    "\n",
    "# Next we create a pandas data frame to read the file as the ones above\n",
    "df_imdb_aka = pd.read_sql(q, conn)\n",
    "\n",
    "#Taking a look at the first 3 rows of data\n",
    "df_imdb_aka.head(3)"
   ]
  },
  {
   "cell_type": "code",
   "execution_count": 12,
   "id": "d3d070e4",
   "metadata": {},
   "outputs": [
    {
     "data": {
      "text/html": [
       "<div>\n",
       "<style scoped>\n",
       "    .dataframe tbody tr th:only-of-type {\n",
       "        vertical-align: middle;\n",
       "    }\n",
       "\n",
       "    .dataframe tbody tr th {\n",
       "        vertical-align: top;\n",
       "    }\n",
       "\n",
       "    .dataframe thead th {\n",
       "        text-align: right;\n",
       "    }\n",
       "</style>\n",
       "<table border=\"1\" class=\"dataframe\">\n",
       "  <thead>\n",
       "    <tr style=\"text-align: right;\">\n",
       "      <th></th>\n",
       "      <th>movie_id</th>\n",
       "      <th>person_id</th>\n",
       "    </tr>\n",
       "  </thead>\n",
       "  <tbody>\n",
       "    <tr>\n",
       "      <th>0</th>\n",
       "      <td>tt0285252</td>\n",
       "      <td>nm0899854</td>\n",
       "    </tr>\n",
       "    <tr>\n",
       "      <th>1</th>\n",
       "      <td>tt0462036</td>\n",
       "      <td>nm1940585</td>\n",
       "    </tr>\n",
       "    <tr>\n",
       "      <th>2</th>\n",
       "      <td>tt0835418</td>\n",
       "      <td>nm0151540</td>\n",
       "    </tr>\n",
       "  </tbody>\n",
       "</table>\n",
       "</div>"
      ],
      "text/plain": [
       "    movie_id  person_id\n",
       "0  tt0285252  nm0899854\n",
       "1  tt0462036  nm1940585\n",
       "2  tt0835418  nm0151540"
      ]
     },
     "execution_count": 12,
     "metadata": {},
     "output_type": "execute_result"
    }
   ],
   "source": [
    "#To avoid constant retyping we'll assign the variable q to the SQL\n",
    "q = (\"\"\"\n",
    "SELECT *\n",
    "FROM directors\n",
    "\"\"\")\n",
    "\n",
    "# Next we create a pandas data frame to read the file as the ones above\n",
    "df_imdb_director = pd.read_sql(q, conn)\n",
    "\n",
    "#Taking a look at the first 3 rows of data\n",
    "df_imdb_director.head(3)"
   ]
  },
  {
   "cell_type": "code",
   "execution_count": 13,
   "id": "af56ede2",
   "metadata": {},
   "outputs": [
    {
     "data": {
      "text/html": [
       "<div>\n",
       "<style scoped>\n",
       "    .dataframe tbody tr th:only-of-type {\n",
       "        vertical-align: middle;\n",
       "    }\n",
       "\n",
       "    .dataframe tbody tr th {\n",
       "        vertical-align: top;\n",
       "    }\n",
       "\n",
       "    .dataframe thead th {\n",
       "        text-align: right;\n",
       "    }\n",
       "</style>\n",
       "<table border=\"1\" class=\"dataframe\">\n",
       "  <thead>\n",
       "    <tr style=\"text-align: right;\">\n",
       "      <th></th>\n",
       "      <th>movie_id</th>\n",
       "      <th>person_id</th>\n",
       "    </tr>\n",
       "  </thead>\n",
       "  <tbody>\n",
       "    <tr>\n",
       "      <th>0</th>\n",
       "      <td>tt0285252</td>\n",
       "      <td>nm0899854</td>\n",
       "    </tr>\n",
       "    <tr>\n",
       "      <th>1</th>\n",
       "      <td>tt0438973</td>\n",
       "      <td>nm0175726</td>\n",
       "    </tr>\n",
       "    <tr>\n",
       "      <th>2</th>\n",
       "      <td>tt0438973</td>\n",
       "      <td>nm1802864</td>\n",
       "    </tr>\n",
       "  </tbody>\n",
       "</table>\n",
       "</div>"
      ],
      "text/plain": [
       "    movie_id  person_id\n",
       "0  tt0285252  nm0899854\n",
       "1  tt0438973  nm0175726\n",
       "2  tt0438973  nm1802864"
      ]
     },
     "execution_count": 13,
     "metadata": {},
     "output_type": "execute_result"
    }
   ],
   "source": [
    "#To avoid constant retyping we'll assign the variable q to the SQL\n",
    "q = (\"\"\"\n",
    "SELECT *\n",
    "FROM writers\n",
    "\"\"\")\n",
    "\n",
    "# Next we create a pandas data frame to read the file as the ones above\n",
    "df_imdb_writer = pd.read_sql(q, conn)\n",
    "\n",
    "#Taking a look at the first 3 rows of data\n",
    "df_imdb_writer.head(3)"
   ]
  },
  {
   "cell_type": "markdown",
   "id": "9a2119ed",
   "metadata": {},
   "source": [
    "Great! From my data I can see that I have a few afactors to work with. The columns I can work with are the Budgets, Genres, Ratings, Writers and Directors. This data can be able to gain an insight and corespond well hand in hand with the movie analysis"
   ]
  },
  {
   "cell_type": "markdown",
   "id": "c67c2e98",
   "metadata": {},
   "source": [
    "## Data Cleaning\n",
    "Yes, I have the data but I also need to acquire the right information to avoid errors that might result from poor arrangement of data or from outliers. Clean data is critical if I am going to effectively utilise the right data. I will go through the frames cleaning one by one."
   ]
  },
  {
   "cell_type": "markdown",
   "id": "677cb083",
   "metadata": {},
   "source": [
    "### Financial Data"
   ]
  },
  {
   "cell_type": "markdown",
   "id": "f57b5a62",
   "metadata": {},
   "source": [
    "##### 1. Df_gross"
   ]
  },
  {
   "cell_type": "code",
   "execution_count": 14,
   "id": "dd54d363",
   "metadata": {},
   "outputs": [
    {
     "data": {
      "text/plain": [
       "(3387, 5)"
      ]
     },
     "execution_count": 14,
     "metadata": {},
     "output_type": "execute_result"
    }
   ],
   "source": [
    "#First I'll look at the shape to understand the formation of rows and columns\n",
    "df_gross.shape"
   ]
  },
  {
   "cell_type": "markdown",
   "id": "e71269d1",
   "metadata": {},
   "source": [
    "Looking at the shape helps us determine missing values and be able to work with figures safe from missing values"
   ]
  },
  {
   "cell_type": "code",
   "execution_count": 15,
   "id": "db6940fa",
   "metadata": {},
   "outputs": [
    {
     "name": "stdout",
     "output_type": "stream",
     "text": [
      "<class 'pandas.core.frame.DataFrame'>\n",
      "RangeIndex: 3387 entries, 0 to 3386\n",
      "Data columns (total 5 columns):\n",
      " #   Column          Non-Null Count  Dtype  \n",
      "---  ------          --------------  -----  \n",
      " 0   title           3387 non-null   object \n",
      " 1   studio          3382 non-null   object \n",
      " 2   domestic_gross  3359 non-null   float64\n",
      " 3   foreign_gross   2037 non-null   object \n",
      " 4   year            3387 non-null   int64  \n",
      "dtypes: float64(1), int64(1), object(3)\n",
      "memory usage: 132.4+ KB\n"
     ]
    }
   ],
   "source": [
    "# I will look at the contents of the data to see the data type and the null counts\n",
    "df_gross.info()"
   ]
  },
  {
   "cell_type": "markdown",
   "id": "cc531888",
   "metadata": {},
   "source": [
    "I can tell that there are missing values in the data and the foreign_gross is an object rather than a float"
   ]
  },
  {
   "cell_type": "code",
   "execution_count": 16,
   "id": "01ecdbbc",
   "metadata": {},
   "outputs": [
    {
     "data": {
      "text/plain": [
       "title                0\n",
       "studio               5\n",
       "domestic_gross      28\n",
       "foreign_gross     1350\n",
       "year                 0\n",
       "dtype: int64"
      ]
     },
     "execution_count": 16,
     "metadata": {},
     "output_type": "execute_result"
    }
   ],
   "source": [
    "#I want to check the number of missing values to guage on how I will clean the data\n",
    "df_gross.isnull().sum()"
   ]
  },
  {
   "cell_type": "markdown",
   "id": "6211878b",
   "metadata": {},
   "source": [
    "The studio, domestic gross and foreign gross have missing values and therefore I can assess what to do with the data. The first thing I am going to do is remove the rows of the studio and the domestic gross with missing values to be able to remain with values without nulls. Looking at the foreign gross the value is high and will greatly affect the table so I will remove the column."
   ]
  },
  {
   "cell_type": "code",
   "execution_count": 17,
   "id": "688b14d0",
   "metadata": {},
   "outputs": [
    {
     "data": {
      "text/plain": [
       "0"
      ]
     },
     "execution_count": 17,
     "metadata": {},
     "output_type": "execute_result"
    }
   ],
   "source": [
    "# Dropping null rows in the studio column\n",
    "df_gross.dropna(subset=['studio'], inplace=True)\n",
    "\n",
    "#Confirming that the null rows are dropped\n",
    "df_gross['studio'].isnull().sum()"
   ]
  },
  {
   "cell_type": "markdown",
   "id": "6943f2d8",
   "metadata": {},
   "source": [
    "Great there are no more null values"
   ]
  },
  {
   "cell_type": "code",
   "execution_count": 18,
   "id": "d046a1b3",
   "metadata": {},
   "outputs": [
    {
     "data": {
      "text/plain": [
       "0"
      ]
     },
     "execution_count": 18,
     "metadata": {},
     "output_type": "execute_result"
    }
   ],
   "source": [
    "# Dropping null rows in the domestic gross column\n",
    "df_gross.dropna(subset=['domestic_gross'], inplace=True)\n",
    "\n",
    "#Confirming that the null rows are dropped\n",
    "df_gross['domestic_gross'].isnull().sum()"
   ]
  },
  {
   "cell_type": "markdown",
   "id": "e042affd",
   "metadata": {},
   "source": [
    "The reason why I didn't work with the mean is because I believe that we can't really rank movies with producing the same gross and therefore I found that it would be more authentic to just deal with the actual gross."
   ]
  },
  {
   "cell_type": "code",
   "execution_count": 19,
   "id": "6e1c3855",
   "metadata": {},
   "outputs": [],
   "source": [
    "# Dropping the foreign column\n",
    "df_gross.drop(columns=['foreign_gross'], inplace=True)"
   ]
  },
  {
   "cell_type": "markdown",
   "id": "52a9428f",
   "metadata": {},
   "source": [
    "Finally, I'll confirm if the data is up to standard"
   ]
  },
  {
   "cell_type": "code",
   "execution_count": 20,
   "id": "d6492e37",
   "metadata": {},
   "outputs": [
    {
     "name": "stdout",
     "output_type": "stream",
     "text": [
      "<class 'pandas.core.frame.DataFrame'>\n",
      "Int64Index: 3356 entries, 0 to 3386\n",
      "Data columns (total 4 columns):\n",
      " #   Column          Non-Null Count  Dtype  \n",
      "---  ------          --------------  -----  \n",
      " 0   title           3356 non-null   object \n",
      " 1   studio          3356 non-null   object \n",
      " 2   domestic_gross  3356 non-null   float64\n",
      " 3   year            3356 non-null   int64  \n",
      "dtypes: float64(1), int64(1), object(2)\n",
      "memory usage: 131.1+ KB\n"
     ]
    }
   ],
   "source": [
    "# confiming the cleanup\n",
    "df_gross.info()"
   ]
  },
  {
   "cell_type": "markdown",
   "id": "81c774b7",
   "metadata": {},
   "source": [
    "Finally, I want to confirm if there are outliers in the data to prevent extreme values affecting the statistics"
   ]
  },
  {
   "cell_type": "markdown",
   "id": "65663b4a",
   "metadata": {},
   "source": [
    "Considering I am working with `graphs` on this one I will need to import packages that are used in plotting and reading of graphs"
   ]
  },
  {
   "cell_type": "code",
   "execution_count": 21,
   "id": "9adb2262",
   "metadata": {},
   "outputs": [],
   "source": [
    "#importing packages\n",
    "import matplotlib.pyplot as plt\n",
    "%matplotlib inline\n",
    "import seaborn as sb"
   ]
  },
  {
   "cell_type": "code",
   "execution_count": 22,
   "id": "836767a1",
   "metadata": {},
   "outputs": [
    {
     "data": {
      "image/png": "[encoded data removed]",
      "text/plain": [
       "<Figure size 640x480 with 1 Axes>"
      ]
     },
     "metadata": {},
     "output_type": "display_data"
    }
   ],
   "source": [
    "# The outliers I am checking for is from the domestic gross\n",
    "\n",
    "#I am plotting a graph\n",
    "plt.boxplot(df_gross['domestic_gross'])\n",
    "\n",
    "#setting the title of the plot\n",
    "plt.title('Box Plot of the Domestic Gross')\n",
    "\n",
    "#Accessing the visualization \n",
    "plt.show()"
   ]
  },
  {
   "cell_type": "markdown",
   "id": "15bb424e",
   "metadata": {},
   "source": [
    "From the graph I can see that there are outliers in the data and the wise step would be to get rid of them"
   ]
  },
  {
   "cell_type": "code",
   "execution_count": 23,
   "id": "0b0231c8",
   "metadata": {},
   "outputs": [
    {
     "data": {
      "text/html": [
       "<div>\n",
       "<style scoped>\n",
       "    .dataframe tbody tr th:only-of-type {\n",
       "        vertical-align: middle;\n",
       "    }\n",
       "\n",
       "    .dataframe tbody tr th {\n",
       "        vertical-align: top;\n",
       "    }\n",
       "\n",
       "    .dataframe thead th {\n",
       "        text-align: right;\n",
       "    }\n",
       "</style>\n",
       "<table border=\"1\" class=\"dataframe\">\n",
       "  <thead>\n",
       "    <tr style=\"text-align: right;\">\n",
       "      <th></th>\n",
       "      <th>title</th>\n",
       "      <th>studio</th>\n",
       "      <th>domestic_gross</th>\n",
       "      <th>year</th>\n",
       "    </tr>\n",
       "  </thead>\n",
       "  <tbody>\n",
       "    <tr>\n",
       "      <th>21</th>\n",
       "      <td>Resident Evil: Afterlife</td>\n",
       "      <td>SGem</td>\n",
       "      <td>60100000.0</td>\n",
       "      <td>2010</td>\n",
       "    </tr>\n",
       "    <tr>\n",
       "      <th>25</th>\n",
       "      <td>The Tourist</td>\n",
       "      <td>Sony</td>\n",
       "      <td>67600000.0</td>\n",
       "      <td>2010</td>\n",
       "    </tr>\n",
       "    <tr>\n",
       "      <th>30</th>\n",
       "      <td>Gulliver's Travels</td>\n",
       "      <td>Fox</td>\n",
       "      <td>42800000.0</td>\n",
       "      <td>2010</td>\n",
       "    </tr>\n",
       "    <tr>\n",
       "      <th>34</th>\n",
       "      <td>The Sorcerer's Apprentice</td>\n",
       "      <td>BV</td>\n",
       "      <td>63200000.0</td>\n",
       "      <td>2010</td>\n",
       "    </tr>\n",
       "    <tr>\n",
       "      <th>44</th>\n",
       "      <td>Step Up 3-D</td>\n",
       "      <td>BV</td>\n",
       "      <td>42400000.0</td>\n",
       "      <td>2010</td>\n",
       "    </tr>\n",
       "    <tr>\n",
       "      <th>...</th>\n",
       "      <td>...</td>\n",
       "      <td>...</td>\n",
       "      <td>...</td>\n",
       "      <td>...</td>\n",
       "    </tr>\n",
       "    <tr>\n",
       "      <th>3382</th>\n",
       "      <td>The Quake</td>\n",
       "      <td>Magn.</td>\n",
       "      <td>6200.0</td>\n",
       "      <td>2018</td>\n",
       "    </tr>\n",
       "    <tr>\n",
       "      <th>3383</th>\n",
       "      <td>Edward II (2018 re-release)</td>\n",
       "      <td>FM</td>\n",
       "      <td>4800.0</td>\n",
       "      <td>2018</td>\n",
       "    </tr>\n",
       "    <tr>\n",
       "      <th>3384</th>\n",
       "      <td>El Pacto</td>\n",
       "      <td>Sony</td>\n",
       "      <td>2500.0</td>\n",
       "      <td>2018</td>\n",
       "    </tr>\n",
       "    <tr>\n",
       "      <th>3385</th>\n",
       "      <td>The Swan</td>\n",
       "      <td>Synergetic</td>\n",
       "      <td>2400.0</td>\n",
       "      <td>2018</td>\n",
       "    </tr>\n",
       "    <tr>\n",
       "      <th>3386</th>\n",
       "      <td>An Actor Prepares</td>\n",
       "      <td>Grav.</td>\n",
       "      <td>1700.0</td>\n",
       "      <td>2018</td>\n",
       "    </tr>\n",
       "  </tbody>\n",
       "</table>\n",
       "<p>2950 rows × 4 columns</p>\n",
       "</div>"
      ],
      "text/plain": [
       "                            title      studio  domestic_gross  year\n",
       "21       Resident Evil: Afterlife        SGem      60100000.0  2010\n",
       "25                    The Tourist        Sony      67600000.0  2010\n",
       "30             Gulliver's Travels         Fox      42800000.0  2010\n",
       "34      The Sorcerer's Apprentice          BV      63200000.0  2010\n",
       "44                    Step Up 3-D          BV      42400000.0  2010\n",
       "...                           ...         ...             ...   ...\n",
       "3382                    The Quake       Magn.          6200.0  2018\n",
       "3383  Edward II (2018 re-release)          FM          4800.0  2018\n",
       "3384                     El Pacto        Sony          2500.0  2018\n",
       "3385                     The Swan  Synergetic          2400.0  2018\n",
       "3386            An Actor Prepares       Grav.          1700.0  2018\n",
       "\n",
       "[2950 rows x 4 columns]"
      ]
     },
     "execution_count": 23,
     "metadata": {},
     "output_type": "execute_result"
    }
   ],
   "source": [
    "# To calculate outliers I firts need to get the Inter Quartile Range (IQR)\n",
    "Q1 = df_gross['domestic_gross'].quantile(0.25)\n",
    "Q3 = df_gross['domestic_gross'].quantile(0.75)\n",
    "IQR = Q3 - Q1\n",
    "#I will define the lower and the upper bounds\n",
    "lower_bound = Q1 - 1.5 * IQR\n",
    "upper_bound = Q3 + 1.5 * IQR\n",
    "\n",
    "# Use the conditions to remove the outliers\n",
    "df_gross[(df_gross['domestic_gross'] >= lower_bound) & (df_gross['domestic_gross'] <= upper_bound)]"
   ]
  },
  {
   "cell_type": "markdown",
   "id": "e315ab15",
   "metadata": {},
   "source": [
    "Great our data is clean I shall repeat similar steps for the next processes"
   ]
  },
  {
   "cell_type": "markdown",
   "id": "8a172e79",
   "metadata": {},
   "source": [
    "##### 2. Df_budgets"
   ]
  },
  {
   "cell_type": "code",
   "execution_count": 24,
   "id": "98301873",
   "metadata": {},
   "outputs": [
    {
     "data": {
      "text/plain": [
       "(5782, 6)"
      ]
     },
     "execution_count": 24,
     "metadata": {},
     "output_type": "execute_result"
    }
   ],
   "source": [
    "#check  the shape\n",
    "df_budgets.shape"
   ]
  },
  {
   "cell_type": "code",
   "execution_count": 25,
   "id": "01308b6c",
   "metadata": {},
   "outputs": [
    {
     "name": "stdout",
     "output_type": "stream",
     "text": [
      "<class 'pandas.core.frame.DataFrame'>\n",
      "RangeIndex: 5782 entries, 0 to 5781\n",
      "Data columns (total 6 columns):\n",
      " #   Column             Non-Null Count  Dtype \n",
      "---  ------             --------------  ----- \n",
      " 0   id                 5782 non-null   int64 \n",
      " 1   release_date       5782 non-null   object\n",
      " 2   movie              5782 non-null   object\n",
      " 3   production_budget  5782 non-null   object\n",
      " 4   domestic_gross     5782 non-null   object\n",
      " 5   worldwide_gross    5782 non-null   object\n",
      "dtypes: int64(1), object(5)\n",
      "memory usage: 271.2+ KB\n"
     ]
    }
   ],
   "source": [
    "#Get contents of the data\n",
    "df_budgets.info()"
   ]
  },
  {
   "cell_type": "markdown",
   "id": "cf21e727",
   "metadata": {},
   "source": [
    "There are no null values but the issue is the domestic and worldwide gross together with the production busgets are objects instead of floats"
   ]
  },
  {
   "cell_type": "code",
   "execution_count": 26,
   "id": "b73f706c",
   "metadata": {},
   "outputs": [
    {
     "data": {
      "text/html": [
       "<div>\n",
       "<style scoped>\n",
       "    .dataframe tbody tr th:only-of-type {\n",
       "        vertical-align: middle;\n",
       "    }\n",
       "\n",
       "    .dataframe tbody tr th {\n",
       "        vertical-align: top;\n",
       "    }\n",
       "\n",
       "    .dataframe thead th {\n",
       "        text-align: right;\n",
       "    }\n",
       "</style>\n",
       "<table border=\"1\" class=\"dataframe\">\n",
       "  <thead>\n",
       "    <tr style=\"text-align: right;\">\n",
       "      <th></th>\n",
       "      <th>id</th>\n",
       "      <th>release_date</th>\n",
       "      <th>movie</th>\n",
       "      <th>production_budget</th>\n",
       "      <th>domestic_gross</th>\n",
       "      <th>worldwide_gross</th>\n",
       "    </tr>\n",
       "  </thead>\n",
       "  <tbody>\n",
       "    <tr>\n",
       "      <th>0</th>\n",
       "      <td>1</td>\n",
       "      <td>Dec 18, 2009</td>\n",
       "      <td>Avatar</td>\n",
       "      <td>$425,000,000</td>\n",
       "      <td>$760,507,625</td>\n",
       "      <td>$2,776,345,279</td>\n",
       "    </tr>\n",
       "    <tr>\n",
       "      <th>1</th>\n",
       "      <td>2</td>\n",
       "      <td>May 20, 2011</td>\n",
       "      <td>Pirates of the Caribbean: On Stranger Tides</td>\n",
       "      <td>$410,600,000</td>\n",
       "      <td>$241,063,875</td>\n",
       "      <td>$1,045,663,875</td>\n",
       "    </tr>\n",
       "    <tr>\n",
       "      <th>2</th>\n",
       "      <td>3</td>\n",
       "      <td>Jun 7, 2019</td>\n",
       "      <td>Dark Phoenix</td>\n",
       "      <td>$350,000,000</td>\n",
       "      <td>$42,762,350</td>\n",
       "      <td>$149,762,350</td>\n",
       "    </tr>\n",
       "  </tbody>\n",
       "</table>\n",
       "</div>"
      ],
      "text/plain": [
       "   id  release_date                                        movie  \\\n",
       "0   1  Dec 18, 2009                                       Avatar   \n",
       "1   2  May 20, 2011  Pirates of the Caribbean: On Stranger Tides   \n",
       "2   3   Jun 7, 2019                                 Dark Phoenix   \n",
       "\n",
       "  production_budget domestic_gross worldwide_gross  \n",
       "0      $425,000,000   $760,507,625  $2,776,345,279  \n",
       "1      $410,600,000   $241,063,875  $1,045,663,875  \n",
       "2      $350,000,000    $42,762,350    $149,762,350  "
      ]
     },
     "execution_count": 26,
     "metadata": {},
     "output_type": "execute_result"
    }
   ],
   "source": [
    "#Let's look at the first rows of the data\n",
    "df_budgets.head(3)"
   ]
  },
  {
   "cell_type": "markdown",
   "id": "e074c9a6",
   "metadata": {},
   "source": [
    "The problem is objects are strings and therefore cannot be effective in mathematical operations. The ither issue is the dollar signs are also a limit and the commas too. I am going to define a function to clean the data instead of individually trying to clean it."
   ]
  },
  {
   "cell_type": "code",
   "execution_count": 27,
   "id": "1f59b3aa",
   "metadata": {},
   "outputs": [
    {
     "data": {
      "text/html": [
       "<div>\n",
       "<style scoped>\n",
       "    .dataframe tbody tr th:only-of-type {\n",
       "        vertical-align: middle;\n",
       "    }\n",
       "\n",
       "    .dataframe tbody tr th {\n",
       "        vertical-align: top;\n",
       "    }\n",
       "\n",
       "    .dataframe thead th {\n",
       "        text-align: right;\n",
       "    }\n",
       "</style>\n",
       "<table border=\"1\" class=\"dataframe\">\n",
       "  <thead>\n",
       "    <tr style=\"text-align: right;\">\n",
       "      <th></th>\n",
       "      <th>id</th>\n",
       "      <th>release_date</th>\n",
       "      <th>movie</th>\n",
       "      <th>production_budget</th>\n",
       "      <th>domestic_gross</th>\n",
       "      <th>worldwide_gross</th>\n",
       "    </tr>\n",
       "  </thead>\n",
       "  <tbody>\n",
       "    <tr>\n",
       "      <th>0</th>\n",
       "      <td>1</td>\n",
       "      <td>Dec 18, 2009</td>\n",
       "      <td>Avatar</td>\n",
       "      <td>$425000000</td>\n",
       "      <td>$760507625</td>\n",
       "      <td>$2776345279</td>\n",
       "    </tr>\n",
       "    <tr>\n",
       "      <th>1</th>\n",
       "      <td>2</td>\n",
       "      <td>May 20, 2011</td>\n",
       "      <td>Pirates of the Caribbean: On Stranger Tides</td>\n",
       "      <td>$410600000</td>\n",
       "      <td>$241063875</td>\n",
       "      <td>$1045663875</td>\n",
       "    </tr>\n",
       "    <tr>\n",
       "      <th>2</th>\n",
       "      <td>3</td>\n",
       "      <td>Jun 7, 2019</td>\n",
       "      <td>Dark Phoenix</td>\n",
       "      <td>$350000000</td>\n",
       "      <td>$42762350</td>\n",
       "      <td>$149762350</td>\n",
       "    </tr>\n",
       "  </tbody>\n",
       "</table>\n",
       "</div>"
      ],
      "text/plain": [
       "   id  release_date                                        movie  \\\n",
       "0   1  Dec 18, 2009                                       Avatar   \n",
       "1   2  May 20, 2011  Pirates of the Caribbean: On Stranger Tides   \n",
       "2   3   Jun 7, 2019                                 Dark Phoenix   \n",
       "\n",
       "  production_budget domestic_gross worldwide_gross  \n",
       "0        $425000000     $760507625     $2776345279  \n",
       "1        $410600000     $241063875     $1045663875  \n",
       "2        $350000000      $42762350      $149762350  "
      ]
     },
     "execution_count": 27,
     "metadata": {},
     "output_type": "execute_result"
    }
   ],
   "source": [
    "#Defining a cleaning function\n",
    "def clean_data(df, columns):\n",
    "    #creating a loop to iterate cleaning through the columns\n",
    "    for co in columns:\n",
    "        df[co] = df[co].str.replace(',', '')\n",
    "    return df\n",
    "\n",
    "#creating a list that will be altered\n",
    "clean = ['production_budget', 'domestic_gross', 'worldwide_gross']\n",
    "\n",
    "#calling the function\n",
    "df_budget = clean_data(df_budgets, clean)\n",
    "\n",
    "#confirming the cleanup\n",
    "df_budgets.head(3)"
   ]
  },
  {
   "cell_type": "code",
   "execution_count": 28,
   "id": "7aadb882",
   "metadata": {},
   "outputs": [
    {
     "name": "stderr",
     "output_type": "stream",
     "text": [
      "C:\\Users\\USER\\AppData\\Local\\Temp\\ipykernel_14436\\2648664192.py:5: FutureWarning: The default value of regex will change from True to False in a future version. In addition, single character regular expressions will *not* be treated as literal strings when regex=True.\n",
      "  df[co] = df[co].str.replace('$', '')\n"
     ]
    },
    {
     "data": {
      "text/html": [
       "<div>\n",
       "<style scoped>\n",
       "    .dataframe tbody tr th:only-of-type {\n",
       "        vertical-align: middle;\n",
       "    }\n",
       "\n",
       "    .dataframe tbody tr th {\n",
       "        vertical-align: top;\n",
       "    }\n",
       "\n",
       "    .dataframe thead th {\n",
       "        text-align: right;\n",
       "    }\n",
       "</style>\n",
       "<table border=\"1\" class=\"dataframe\">\n",
       "  <thead>\n",
       "    <tr style=\"text-align: right;\">\n",
       "      <th></th>\n",
       "      <th>id</th>\n",
       "      <th>release_date</th>\n",
       "      <th>movie</th>\n",
       "      <th>production_budget</th>\n",
       "      <th>domestic_gross</th>\n",
       "      <th>worldwide_gross</th>\n",
       "    </tr>\n",
       "  </thead>\n",
       "  <tbody>\n",
       "    <tr>\n",
       "      <th>0</th>\n",
       "      <td>1</td>\n",
       "      <td>Dec 18, 2009</td>\n",
       "      <td>Avatar</td>\n",
       "      <td>425000000</td>\n",
       "      <td>760507625</td>\n",
       "      <td>2776345279</td>\n",
       "    </tr>\n",
       "    <tr>\n",
       "      <th>1</th>\n",
       "      <td>2</td>\n",
       "      <td>May 20, 2011</td>\n",
       "      <td>Pirates of the Caribbean: On Stranger Tides</td>\n",
       "      <td>410600000</td>\n",
       "      <td>241063875</td>\n",
       "      <td>1045663875</td>\n",
       "    </tr>\n",
       "    <tr>\n",
       "      <th>2</th>\n",
       "      <td>3</td>\n",
       "      <td>Jun 7, 2019</td>\n",
       "      <td>Dark Phoenix</td>\n",
       "      <td>350000000</td>\n",
       "      <td>42762350</td>\n",
       "      <td>149762350</td>\n",
       "    </tr>\n",
       "  </tbody>\n",
       "</table>\n",
       "</div>"
      ],
      "text/plain": [
       "   id  release_date                                        movie  \\\n",
       "0   1  Dec 18, 2009                                       Avatar   \n",
       "1   2  May 20, 2011  Pirates of the Caribbean: On Stranger Tides   \n",
       "2   3   Jun 7, 2019                                 Dark Phoenix   \n",
       "\n",
       "  production_budget domestic_gross worldwide_gross  \n",
       "0         425000000      760507625      2776345279  \n",
       "1         410600000      241063875      1045663875  \n",
       "2         350000000       42762350       149762350  "
      ]
     },
     "execution_count": 28,
     "metadata": {},
     "output_type": "execute_result"
    }
   ],
   "source": [
    "#Defining a cleaning function\n",
    "def clean_data(df, columns):\n",
    "    #creating a loop to iterate cleaning through the columns\n",
    "    for co in columns:\n",
    "        df[co] = df[co].str.replace('$', '')\n",
    "    return df\n",
    "\n",
    "#creating a list that will be altered\n",
    "clean = ['production_budget', 'domestic_gross', 'worldwide_gross']\n",
    "\n",
    "#calling the function\n",
    "df_budget = clean_data(df_budgets, clean)\n",
    "\n",
    "#confirming the cleanup\n",
    "df_budgets.head(3)"
   ]
  },
  {
   "cell_type": "code",
   "execution_count": 29,
   "id": "53b2ee91",
   "metadata": {},
   "outputs": [
    {
     "data": {
      "text/html": [
       "<div>\n",
       "<style scoped>\n",
       "    .dataframe tbody tr th:only-of-type {\n",
       "        vertical-align: middle;\n",
       "    }\n",
       "\n",
       "    .dataframe tbody tr th {\n",
       "        vertical-align: top;\n",
       "    }\n",
       "\n",
       "    .dataframe thead th {\n",
       "        text-align: right;\n",
       "    }\n",
       "</style>\n",
       "<table border=\"1\" class=\"dataframe\">\n",
       "  <thead>\n",
       "    <tr style=\"text-align: right;\">\n",
       "      <th></th>\n",
       "      <th>id</th>\n",
       "      <th>release_date</th>\n",
       "      <th>movie</th>\n",
       "      <th>production_budget</th>\n",
       "      <th>domestic_gross</th>\n",
       "      <th>worldwide_gross</th>\n",
       "    </tr>\n",
       "  </thead>\n",
       "  <tbody>\n",
       "    <tr>\n",
       "      <th>0</th>\n",
       "      <td>1</td>\n",
       "      <td>Dec 18, 2009</td>\n",
       "      <td>Avatar</td>\n",
       "      <td>425000000.0</td>\n",
       "      <td>760507625.0</td>\n",
       "      <td>2.776345e+09</td>\n",
       "    </tr>\n",
       "    <tr>\n",
       "      <th>1</th>\n",
       "      <td>2</td>\n",
       "      <td>May 20, 2011</td>\n",
       "      <td>Pirates of the Caribbean: On Stranger Tides</td>\n",
       "      <td>410600000.0</td>\n",
       "      <td>241063875.0</td>\n",
       "      <td>1.045664e+09</td>\n",
       "    </tr>\n",
       "    <tr>\n",
       "      <th>2</th>\n",
       "      <td>3</td>\n",
       "      <td>Jun 7, 2019</td>\n",
       "      <td>Dark Phoenix</td>\n",
       "      <td>350000000.0</td>\n",
       "      <td>42762350.0</td>\n",
       "      <td>1.497624e+08</td>\n",
       "    </tr>\n",
       "  </tbody>\n",
       "</table>\n",
       "</div>"
      ],
      "text/plain": [
       "   id  release_date                                        movie  \\\n",
       "0   1  Dec 18, 2009                                       Avatar   \n",
       "1   2  May 20, 2011  Pirates of the Caribbean: On Stranger Tides   \n",
       "2   3   Jun 7, 2019                                 Dark Phoenix   \n",
       "\n",
       "   production_budget  domestic_gross  worldwide_gross  \n",
       "0        425000000.0     760507625.0     2.776345e+09  \n",
       "1        410600000.0     241063875.0     1.045664e+09  \n",
       "2        350000000.0      42762350.0     1.497624e+08  "
      ]
     },
     "execution_count": 29,
     "metadata": {},
     "output_type": "execute_result"
    }
   ],
   "source": [
    "#Defining a cleaning function\n",
    "def clean_data(df, columns):\n",
    "    #creating a loop to iterate cleaning through the columns\n",
    "    for co in columns:\n",
    "        df[co] = df[co].astype(float)\n",
    "    return df\n",
    "\n",
    "#creating a list that will be altered\n",
    "clean = ['production_budget', 'domestic_gross', 'worldwide_gross']\n",
    "\n",
    "#calling the function\n",
    "df_budget = clean_data(df_budgets, clean)\n",
    "\n",
    "#confirming the cleanup\n",
    "df_budgets.head(3)"
   ]
  },
  {
   "cell_type": "markdown",
   "id": "d88b6818",
   "metadata": {},
   "source": [
    "The function allowed me to clean the columns and so finally let me confirm the changes"
   ]
  },
  {
   "cell_type": "code",
   "execution_count": 30,
   "id": "996b5c2f",
   "metadata": {},
   "outputs": [
    {
     "name": "stdout",
     "output_type": "stream",
     "text": [
      "<class 'pandas.core.frame.DataFrame'>\n",
      "RangeIndex: 5782 entries, 0 to 5781\n",
      "Data columns (total 6 columns):\n",
      " #   Column             Non-Null Count  Dtype  \n",
      "---  ------             --------------  -----  \n",
      " 0   id                 5782 non-null   int64  \n",
      " 1   release_date       5782 non-null   object \n",
      " 2   movie              5782 non-null   object \n",
      " 3   production_budget  5782 non-null   float64\n",
      " 4   domestic_gross     5782 non-null   float64\n",
      " 5   worldwide_gross    5782 non-null   float64\n",
      "dtypes: float64(3), int64(1), object(2)\n",
      "memory usage: 271.2+ KB\n"
     ]
    }
   ],
   "source": [
    "#Confirming the cleanup\n",
    "df_budgets.info()"
   ]
  },
  {
   "cell_type": "markdown",
   "id": "4e4fa463",
   "metadata": {},
   "source": [
    "Great, let me confirm if there are outliers in the data"
   ]
  },
  {
   "cell_type": "code",
   "execution_count": 31,
   "id": "15e46b10",
   "metadata": {},
   "outputs": [
    {
     "data": {
      "image/png": "[encoded data removed]",
      "text/plain": [
       "<Figure size 1200x400 with 3 Axes>"
      ]
     },
     "metadata": {},
     "output_type": "display_data"
    }
   ],
   "source": [
    "# I want to check them as a whole so therefore create 3 graphs\n",
    "\n",
    "#Creating subplots for box plots\n",
    "plt.figure(figsize=(12,4 ))\n",
    "\n",
    "#Production Budget\n",
    "plt.subplot(1, 3, 1)\n",
    "plt.boxplot(df_budgets['production_budget'])\n",
    "plt.title('Production Budget')\n",
    "\n",
    "#Domestic Gross\n",
    "plt.subplot(1, 3, 2)\n",
    "plt.boxplot(df_budgets['domestic_gross'])\n",
    "plt.title('Domestic Gross')\n",
    "\n",
    "#Worldwide Gross\n",
    "plt.subplot(1, 3, 3)\n",
    "plt.boxplot(df_budgets['worldwide_gross'])\n",
    "plt.title('Worldwide Gross')\n",
    "\n",
    "#Visualizing the plots\n",
    "plt.tight_layout()\n",
    "plt.show()"
   ]
  },
  {
   "cell_type": "markdown",
   "id": "c21583dc",
   "metadata": {},
   "source": [
    "From the graphs I have outliers. To make it easier I will remove the outliers by defining a function to deal with all of them"
   ]
  },
  {
   "cell_type": "code",
   "execution_count": 32,
   "id": "dba064cc",
   "metadata": {},
   "outputs": [],
   "source": [
    "#Defining a function\n",
    "def remove_outliers(df, column):\n",
    "    #Finding the IQR\n",
    "    Q1 = df[column].quantile(0.25)\n",
    "    Q3 = df[column].quantile(0.75)\n",
    "    IQR = Q3 - Q1\n",
    "    \n",
    "    #Defining the lower and upper bound\n",
    "    lower_bound = Q1 - 1.5 * IQR\n",
    "    upper_bound = Q3 + 1.5 * IQR\n",
    "    \n",
    "    #Creating a condition to remove the outliers\n",
    "    df_cleaned = df[(df[column] >= lower_bound) & (df[column] <= upper_bound)]\n",
    "    return df_cleaned\n",
    "\n",
    "#Creating a list to apply the function\n",
    "finance_columns = ['production_budget', 'domestic_gross', 'worldwide_gross']\n",
    "\n",
    "#Creating a loop that iterates through the columns\n",
    "for column in finance_columns:\n",
    "    df_budgets = remove_outliers(df_budgets, column)\n",
    "            "
   ]
  },
  {
   "cell_type": "code",
   "execution_count": 33,
   "id": "d112f632",
   "metadata": {},
   "outputs": [
    {
     "name": "stdout",
     "output_type": "stream",
     "text": [
      "<class 'pandas.core.frame.DataFrame'>\n",
      "Int64Index: 4657 entries, 434 to 5781\n",
      "Data columns (total 6 columns):\n",
      " #   Column             Non-Null Count  Dtype  \n",
      "---  ------             --------------  -----  \n",
      " 0   id                 4657 non-null   int64  \n",
      " 1   release_date       4657 non-null   object \n",
      " 2   movie              4657 non-null   object \n",
      " 3   production_budget  4657 non-null   float64\n",
      " 4   domestic_gross     4657 non-null   float64\n",
      " 5   worldwide_gross    4657 non-null   float64\n",
      "dtypes: float64(3), int64(1), object(2)\n",
      "memory usage: 254.7+ KB\n"
     ]
    }
   ],
   "source": [
    "#I'll confirm if the outliers are removed\n",
    "df_budgets.info()"
   ]
  },
  {
   "cell_type": "markdown",
   "id": "88e3dc8c",
   "metadata": {},
   "source": [
    "I can conclude that the data is clean"
   ]
  },
  {
   "cell_type": "markdown",
   "id": "7879e4fa",
   "metadata": {},
   "source": [
    "### Movie info"
   ]
  },
  {
   "cell_type": "markdown",
   "id": "ba1f6d07",
   "metadata": {},
   "source": [
    "##### 1. Df_tmdb"
   ]
  },
  {
   "cell_type": "code",
   "execution_count": 34,
   "id": "3bdf831c",
   "metadata": {},
   "outputs": [
    {
     "data": {
      "text/plain": [
       "(26517, 10)"
      ]
     },
     "execution_count": 34,
     "metadata": {},
     "output_type": "execute_result"
    }
   ],
   "source": [
    "#first I'll take a look at the shape\n",
    "df_tmdb.shape"
   ]
  },
  {
   "cell_type": "code",
   "execution_count": 35,
   "id": "2d99f820",
   "metadata": {},
   "outputs": [
    {
     "name": "stdout",
     "output_type": "stream",
     "text": [
      "<class 'pandas.core.frame.DataFrame'>\n",
      "RangeIndex: 26517 entries, 0 to 26516\n",
      "Data columns (total 10 columns):\n",
      " #   Column             Non-Null Count  Dtype  \n",
      "---  ------             --------------  -----  \n",
      " 0   Unnamed: 0         26517 non-null  int64  \n",
      " 1   genre_ids          26517 non-null  object \n",
      " 2   id                 26517 non-null  int64  \n",
      " 3   original_language  26517 non-null  object \n",
      " 4   original_title     26517 non-null  object \n",
      " 5   popularity         26517 non-null  float64\n",
      " 6   release_date       26517 non-null  object \n",
      " 7   title              26517 non-null  object \n",
      " 8   vote_average       26517 non-null  float64\n",
      " 9   vote_count         26517 non-null  int64  \n",
      "dtypes: float64(2), int64(3), object(5)\n",
      "memory usage: 2.0+ MB\n"
     ]
    }
   ],
   "source": [
    "# I'll check the columns\n",
    "df_tmdb.info()"
   ]
  },
  {
   "cell_type": "markdown",
   "id": "0f908ffe",
   "metadata": {},
   "source": [
    "Most of the data looks clean so the next step is to check for outliers"
   ]
  },
  {
   "cell_type": "code",
   "execution_count": 36,
   "id": "53f74243",
   "metadata": {},
   "outputs": [],
   "source": [
    "# Creating a list that will be used to check for outliers\n",
    "info_columns = ['popularity', 'vote_average', 'vote_count']"
   ]
  },
  {
   "cell_type": "code",
   "execution_count": 37,
   "id": "7c9404f8",
   "metadata": {},
   "outputs": [],
   "source": [
    "#defing a function for the outliers\n",
    "def remove_outliers_info(df, columns):\n",
    "    #creating a list to iterate through the columns\n",
    "    for col in columns:\n",
    "        #finding the IQR\n",
    "        Q1 = df[col].quantile(0.25)\n",
    "        Q3 = df[col].quantile(0.75)\n",
    "        IQR = Q3 - Q1\n",
    "        #defining the upper and lower bound\n",
    "        lower_bound = Q1 - 1.5 * IQR\n",
    "        upper_bound = Q3 + 1.5 * IQR\n",
    "        #creating a condition\n",
    "        df = df[(df[col] >= lower_bound) & (df[col] <= upper_bound)]\n",
    "    return df\n",
    "\n",
    "#Removing the outliers\n",
    "df_tmdb = remove_outliers_info(df_tmdb, info_columns)"
   ]
  },
  {
   "cell_type": "code",
   "execution_count": 38,
   "id": "7b441ce0",
   "metadata": {},
   "outputs": [
    {
     "name": "stdout",
     "output_type": "stream",
     "text": [
      "<class 'pandas.core.frame.DataFrame'>\n",
      "Int64Index: 20071 entries, 229 to 26498\n",
      "Data columns (total 10 columns):\n",
      " #   Column             Non-Null Count  Dtype  \n",
      "---  ------             --------------  -----  \n",
      " 0   Unnamed: 0         20071 non-null  int64  \n",
      " 1   genre_ids          20071 non-null  object \n",
      " 2   id                 20071 non-null  int64  \n",
      " 3   original_language  20071 non-null  object \n",
      " 4   original_title     20071 non-null  object \n",
      " 5   popularity         20071 non-null  float64\n",
      " 6   release_date       20071 non-null  object \n",
      " 7   title              20071 non-null  object \n",
      " 8   vote_average       20071 non-null  float64\n",
      " 9   vote_count         20071 non-null  int64  \n",
      "dtypes: float64(2), int64(3), object(5)\n",
      "memory usage: 1.7+ MB\n"
     ]
    }
   ],
   "source": [
    "#Reviewing the columns\n",
    "df_tmdb.info()"
   ]
  },
  {
   "cell_type": "markdown",
   "id": "caf1e4e5",
   "metadata": {},
   "source": [
    "The outliers are removed and now the data is clean"
   ]
  },
  {
   "cell_type": "markdown",
   "id": "3f11b048",
   "metadata": {},
   "source": [
    "I think there is one data that we don't need and I will remove the columns"
   ]
  },
  {
   "cell_type": "code",
   "execution_count": 39,
   "id": "82ce4dfa",
   "metadata": {},
   "outputs": [
    {
     "name": "stdout",
     "output_type": "stream",
     "text": [
      "<class 'pandas.core.frame.DataFrame'>\n",
      "Int64Index: 20071 entries, 229 to 26498\n",
      "Data columns (total 5 columns):\n",
      " #   Column        Non-Null Count  Dtype  \n",
      "---  ------        --------------  -----  \n",
      " 0   id            20071 non-null  int64  \n",
      " 1   popularity    20071 non-null  float64\n",
      " 2   title         20071 non-null  object \n",
      " 3   vote_average  20071 non-null  float64\n",
      " 4   vote_count    20071 non-null  int64  \n",
      "dtypes: float64(2), int64(2), object(1)\n",
      "memory usage: 940.8+ KB\n"
     ]
    }
   ],
   "source": [
    "#creating a list to remove the columns\n",
    "columns_tmdb = ['Unnamed: 0', 'genre_ids', 'original_language', 'release_date', 'original_title']\n",
    "#removing the columns\n",
    "df_tmdb.drop(columns=columns_tmdb, inplace=True)\n",
    "#confirming the columns are removed\n",
    "df_tmdb.info()"
   ]
  },
  {
   "cell_type": "markdown",
   "id": "29b58dd7",
   "metadata": {},
   "source": [
    "I think now the data is okay to work with"
   ]
  },
  {
   "cell_type": "markdown",
   "id": "ac828e73",
   "metadata": {},
   "source": [
    "##### 2. Df_rt"
   ]
  },
  {
   "cell_type": "code",
   "execution_count": 40,
   "id": "e566c67a",
   "metadata": {},
   "outputs": [
    {
     "name": "stdout",
     "output_type": "stream",
     "text": [
      "<class 'pandas.core.frame.DataFrame'>\n",
      "RangeIndex: 1560 entries, 0 to 1559\n",
      "Data columns (total 12 columns):\n",
      " #   Column        Non-Null Count  Dtype \n",
      "---  ------        --------------  ----- \n",
      " 0   id            1560 non-null   int64 \n",
      " 1   synopsis      1498 non-null   object\n",
      " 2   rating        1557 non-null   object\n",
      " 3   genre         1552 non-null   object\n",
      " 4   director      1361 non-null   object\n",
      " 5   writer        1111 non-null   object\n",
      " 6   theater_date  1201 non-null   object\n",
      " 7   dvd_date      1201 non-null   object\n",
      " 8   currency      340 non-null    object\n",
      " 9   box_office    340 non-null    object\n",
      " 10  runtime       1530 non-null   object\n",
      " 11  studio        494 non-null    object\n",
      "dtypes: int64(1), object(11)\n",
      "memory usage: 146.4+ KB\n"
     ]
    }
   ],
   "source": [
    "#Checking the columns\n",
    "df_rt.info()"
   ]
  },
  {
   "cell_type": "markdown",
   "id": "2d5017fb",
   "metadata": {},
   "source": [
    "From the assesment we can see that there are null values. The rating is an object instead of an interger and the currency is also an object instead of a float."
   ]
  },
  {
   "cell_type": "code",
   "execution_count": 41,
   "id": "e1b4a56d",
   "metadata": {},
   "outputs": [
    {
     "data": {
      "text/plain": [
       "id                 0\n",
       "synopsis          62\n",
       "rating             3\n",
       "genre              8\n",
       "director         199\n",
       "writer           449\n",
       "theater_date     359\n",
       "dvd_date         359\n",
       "currency        1220\n",
       "box_office      1220\n",
       "runtime           30\n",
       "studio          1066\n",
       "dtype: int64"
      ]
     },
     "execution_count": 41,
     "metadata": {},
     "output_type": "execute_result"
    }
   ],
   "source": [
    "#I'll start by checking the total of null values\n",
    "df_rt.isnull().sum()"
   ]
  },
  {
   "cell_type": "markdown",
   "id": "e552031c",
   "metadata": {},
   "source": [
    "My decision is I'll get rid of the rating, genre, director, writer and runtime with the null values. The currency and the studio have very high null values and it would be better to get rid of the column."
   ]
  },
  {
   "cell_type": "code",
   "execution_count": 42,
   "id": "f05dd882",
   "metadata": {},
   "outputs": [],
   "source": [
    "# create a list that will remove the nulls\n",
    "columns_to_clean = ['rating', 'genre', 'runtime', 'director', 'writer']"
   ]
  },
  {
   "cell_type": "code",
   "execution_count": 43,
   "id": "bd5a1a34",
   "metadata": {},
   "outputs": [
    {
     "name": "stdout",
     "output_type": "stream",
     "text": [
      "rating : 0\n",
      "genre : 0\n",
      "runtime : 0\n",
      "director : 0\n",
      "writer : 0\n"
     ]
    }
   ],
   "source": [
    "# define a function \n",
    "def remove_null(df, column):\n",
    "    #drop rows with null values\n",
    "    df.dropna(subset=[column], inplace=True)\n",
    "    \n",
    "    #confirm that the null values are removed\n",
    "    null_count = df[column].isnull().sum()\n",
    "    #create a condition to check the null count\n",
    "    if null_count == 0:\n",
    "        print(f\"{column} : {null_count}\")\n",
    "    return df\n",
    "#iterate through the colmns\n",
    "for column in columns_to_clean:\n",
    "    df_rt = remove_null(df_rt, column)"
   ]
  },
  {
   "cell_type": "markdown",
   "id": "390b8a51",
   "metadata": {},
   "source": [
    "Done, next I will remove the columns that we don't need"
   ]
  },
  {
   "cell_type": "code",
   "execution_count": 44,
   "id": "13144518",
   "metadata": {},
   "outputs": [],
   "source": [
    "#create a list of columns to remove\n",
    "columns_to_remove = ['currency', 'studio', 'box_office', 'dvd_date', 'theater_date', 'synopsis','id', 'runtime']"
   ]
  },
  {
   "cell_type": "code",
   "execution_count": 45,
   "id": "96d3a404",
   "metadata": {},
   "outputs": [],
   "source": [
    "#define a function to remove the columns\n",
    "def remove_columns(df, columns):\n",
    "    #drop the columns from the data\n",
    "    df.drop(columns=columns, inplace=True)\n",
    "    return df\n",
    "#remove the columns\n",
    "df_rt = remove_columns(df_rt, columns_to_remove)"
   ]
  },
  {
   "cell_type": "code",
   "execution_count": 46,
   "id": "d8ecd480",
   "metadata": {},
   "outputs": [
    {
     "name": "stdout",
     "output_type": "stream",
     "text": [
      "<class 'pandas.core.frame.DataFrame'>\n",
      "Int64Index: 1032 entries, 0 to 1558\n",
      "Data columns (total 4 columns):\n",
      " #   Column    Non-Null Count  Dtype \n",
      "---  ------    --------------  ----- \n",
      " 0   rating    1032 non-null   object\n",
      " 1   genre     1032 non-null   object\n",
      " 2   director  1032 non-null   object\n",
      " 3   writer    1032 non-null   object\n",
      "dtypes: object(4)\n",
      "memory usage: 40.3+ KB\n"
     ]
    }
   ],
   "source": [
    "#I'll confirm that the columns have been removed\n",
    "df_rt.info()"
   ]
  },
  {
   "cell_type": "markdown",
   "id": "13300a86",
   "metadata": {},
   "source": [
    "Great the data is clean and now we can finalize on the SQL tables"
   ]
  },
  {
   "cell_type": "markdown",
   "id": "9d6fcc95",
   "metadata": {},
   "source": [
    "### SQL "
   ]
  },
  {
   "cell_type": "markdown",
   "id": "3ce52103",
   "metadata": {},
   "source": [
    "##### 1. Df_imdb_basics"
   ]
  },
  {
   "cell_type": "code",
   "execution_count": 47,
   "id": "7dbf9eef",
   "metadata": {},
   "outputs": [
    {
     "data": {
      "text/plain": [
       "(146144, 6)"
      ]
     },
     "execution_count": 47,
     "metadata": {},
     "output_type": "execute_result"
    }
   ],
   "source": [
    "#I'll check the shape of the data\n",
    "df_imdb_basics.shape"
   ]
  },
  {
   "cell_type": "code",
   "execution_count": 48,
   "id": "f9033f22",
   "metadata": {},
   "outputs": [
    {
     "name": "stdout",
     "output_type": "stream",
     "text": [
      "<class 'pandas.core.frame.DataFrame'>\n",
      "RangeIndex: 146144 entries, 0 to 146143\n",
      "Data columns (total 6 columns):\n",
      " #   Column           Non-Null Count   Dtype  \n",
      "---  ------           --------------   -----  \n",
      " 0   movie_id         146144 non-null  object \n",
      " 1   primary_title    146144 non-null  object \n",
      " 2   original_title   146123 non-null  object \n",
      " 3   start_year       146144 non-null  int64  \n",
      " 4   runtime_minutes  114405 non-null  float64\n",
      " 5   genres           140736 non-null  object \n",
      "dtypes: float64(1), int64(1), object(4)\n",
      "memory usage: 6.7+ MB\n"
     ]
    }
   ],
   "source": [
    "#I'll check the contents\n",
    "df_imdb_basics.info()"
   ]
  },
  {
   "cell_type": "code",
   "execution_count": 49,
   "id": "64fe303d",
   "metadata": {},
   "outputs": [
    {
     "data": {
      "text/plain": [
       "movie_id               0\n",
       "primary_title          0\n",
       "original_title        21\n",
       "start_year             0\n",
       "runtime_minutes    31739\n",
       "genres              5408\n",
       "dtype: int64"
      ]
     },
     "execution_count": 49,
     "metadata": {},
     "output_type": "execute_result"
    }
   ],
   "source": [
    "#I'll check for the null values\n",
    "df_imdb_basics.isnull().sum()"
   ]
  },
  {
   "cell_type": "markdown",
   "id": "5d6f1ff8",
   "metadata": {},
   "source": [
    "I realised that I really don't have to define a function to remove the null values. I can just simply do it this way;"
   ]
  },
  {
   "cell_type": "code",
   "execution_count": 50,
   "id": "a3234c5a",
   "metadata": {},
   "outputs": [],
   "source": [
    "#I create a list\n",
    "columns = ['genres', 'runtime_minutes', 'original_title']\n",
    "#I remove the rows with the null values\n",
    "df_imdb_basics.dropna(subset=columns, inplace=True)"
   ]
  },
  {
   "cell_type": "code",
   "execution_count": 51,
   "id": "298e481d",
   "metadata": {},
   "outputs": [
    {
     "data": {
      "text/plain": [
       "movie_id           0\n",
       "primary_title      0\n",
       "original_title     0\n",
       "start_year         0\n",
       "runtime_minutes    0\n",
       "genres             0\n",
       "dtype: int64"
      ]
     },
     "execution_count": 51,
     "metadata": {},
     "output_type": "execute_result"
    }
   ],
   "source": [
    "#I'll confirm that the data is cleaned\n",
    "df_imdb_basics.isnull().sum()"
   ]
  },
  {
   "cell_type": "code",
   "execution_count": 52,
   "id": "b8fa63f8",
   "metadata": {},
   "outputs": [],
   "source": [
    "#removing unncessary columns\n",
    "df_imdb_basics.drop(columns=['runtime_minutes', 'start_year', 'original_title'], inplace=True)"
   ]
  },
  {
   "cell_type": "code",
   "execution_count": 53,
   "id": "1bf90ec6",
   "metadata": {},
   "outputs": [
    {
     "data": {
      "text/html": [
       "<div>\n",
       "<style scoped>\n",
       "    .dataframe tbody tr th:only-of-type {\n",
       "        vertical-align: middle;\n",
       "    }\n",
       "\n",
       "    .dataframe tbody tr th {\n",
       "        vertical-align: top;\n",
       "    }\n",
       "\n",
       "    .dataframe thead th {\n",
       "        text-align: right;\n",
       "    }\n",
       "</style>\n",
       "<table border=\"1\" class=\"dataframe\">\n",
       "  <thead>\n",
       "    <tr style=\"text-align: right;\">\n",
       "      <th></th>\n",
       "      <th>movie_id</th>\n",
       "      <th>primary_title</th>\n",
       "      <th>genres</th>\n",
       "    </tr>\n",
       "  </thead>\n",
       "  <tbody>\n",
       "    <tr>\n",
       "      <th>0</th>\n",
       "      <td>tt0063540</td>\n",
       "      <td>Sunghursh</td>\n",
       "      <td>Action,Crime,Drama</td>\n",
       "    </tr>\n",
       "    <tr>\n",
       "      <th>1</th>\n",
       "      <td>tt0066787</td>\n",
       "      <td>One Day Before the Rainy Season</td>\n",
       "      <td>Biography,Drama</td>\n",
       "    </tr>\n",
       "    <tr>\n",
       "      <th>2</th>\n",
       "      <td>tt0069049</td>\n",
       "      <td>The Other Side of the Wind</td>\n",
       "      <td>Drama</td>\n",
       "    </tr>\n",
       "  </tbody>\n",
       "</table>\n",
       "</div>"
      ],
      "text/plain": [
       "    movie_id                    primary_title              genres\n",
       "0  tt0063540                        Sunghursh  Action,Crime,Drama\n",
       "1  tt0066787  One Day Before the Rainy Season     Biography,Drama\n",
       "2  tt0069049       The Other Side of the Wind               Drama"
      ]
     },
     "execution_count": 53,
     "metadata": {},
     "output_type": "execute_result"
    }
   ],
   "source": [
    "#confirming that the columns are removed\n",
    "df_imdb_basics.head(3)"
   ]
  },
  {
   "cell_type": "markdown",
   "id": "a8f9087a",
   "metadata": {},
   "source": [
    "Considering that there are no figures I'll assume that there is no need to check for outliers"
   ]
  },
  {
   "cell_type": "markdown",
   "id": "2fc6457a",
   "metadata": {},
   "source": [
    "##### 2. Df_imdb_ratings"
   ]
  },
  {
   "cell_type": "code",
   "execution_count": 54,
   "id": "ae466564",
   "metadata": {},
   "outputs": [
    {
     "data": {
      "text/plain": [
       "(73856, 3)"
      ]
     },
     "execution_count": 54,
     "metadata": {},
     "output_type": "execute_result"
    }
   ],
   "source": [
    "#let's look at the shape of the data\n",
    "df_imdb_ratings.shape"
   ]
  },
  {
   "cell_type": "code",
   "execution_count": 55,
   "id": "382d2207",
   "metadata": {},
   "outputs": [
    {
     "name": "stdout",
     "output_type": "stream",
     "text": [
      "<class 'pandas.core.frame.DataFrame'>\n",
      "RangeIndex: 73856 entries, 0 to 73855\n",
      "Data columns (total 3 columns):\n",
      " #   Column         Non-Null Count  Dtype  \n",
      "---  ------         --------------  -----  \n",
      " 0   movie_id       73856 non-null  object \n",
      " 1   averagerating  73856 non-null  float64\n",
      " 2   numvotes       73856 non-null  int64  \n",
      "dtypes: float64(1), int64(1), object(1)\n",
      "memory usage: 1.7+ MB\n"
     ]
    }
   ],
   "source": [
    "#let's look at the columns\n",
    "df_imdb_ratings.info()"
   ]
  },
  {
   "cell_type": "markdown",
   "id": "464adfc3",
   "metadata": {},
   "source": [
    "I don't see the need to look for the outliers on average data"
   ]
  },
  {
   "cell_type": "markdown",
   "id": "9276adc0",
   "metadata": {},
   "source": [
    "##### 3.Df_imdb_person"
   ]
  },
  {
   "cell_type": "code",
   "execution_count": 56,
   "id": "259225ac",
   "metadata": {},
   "outputs": [
    {
     "data": {
      "text/plain": [
       "(606648, 5)"
      ]
     },
     "execution_count": 56,
     "metadata": {},
     "output_type": "execute_result"
    }
   ],
   "source": [
    "#let's look at the shape\n",
    "df_imdb_person.shape"
   ]
  },
  {
   "cell_type": "code",
   "execution_count": 57,
   "id": "84bfdc34",
   "metadata": {},
   "outputs": [
    {
     "name": "stdout",
     "output_type": "stream",
     "text": [
      "<class 'pandas.core.frame.DataFrame'>\n",
      "RangeIndex: 606648 entries, 0 to 606647\n",
      "Data columns (total 5 columns):\n",
      " #   Column              Non-Null Count   Dtype  \n",
      "---  ------              --------------   -----  \n",
      " 0   person_id           606648 non-null  object \n",
      " 1   primary_name        606648 non-null  object \n",
      " 2   birth_year          82736 non-null   float64\n",
      " 3   death_year          6783 non-null    float64\n",
      " 4   primary_profession  555308 non-null  object \n",
      "dtypes: float64(2), object(3)\n",
      "memory usage: 23.1+ MB\n"
     ]
    }
   ],
   "source": [
    "#now for the data\n",
    "df_imdb_person.info()"
   ]
  },
  {
   "cell_type": "markdown",
   "id": "66aa345a",
   "metadata": {},
   "source": [
    "My decision is that considering the profession has null values we can work to remove the rows with nulls. I don't think we need the death and birth years, so I'll get rid of the columns"
   ]
  },
  {
   "cell_type": "code",
   "execution_count": 58,
   "id": "ecd6a2a0",
   "metadata": {},
   "outputs": [
    {
     "data": {
      "text/plain": [
       "0"
      ]
     },
     "execution_count": 58,
     "metadata": {},
     "output_type": "execute_result"
    }
   ],
   "source": [
    "#remove the profession rows with null values\n",
    "df_imdb_person.dropna(subset=['primary_profession'], inplace=True)\n",
    "\n",
    "#confirm that the nulls have been removed\n",
    "df_imdb_person['primary_profession'].isnull().sum()"
   ]
  },
  {
   "cell_type": "code",
   "execution_count": 59,
   "id": "94006867",
   "metadata": {},
   "outputs": [],
   "source": [
    "#Remove the row column from the death and birth\n",
    "df_imdb_person.drop(columns=['birth_year', 'death_year'], inplace=True)"
   ]
  },
  {
   "cell_type": "code",
   "execution_count": 60,
   "id": "78904c05",
   "metadata": {},
   "outputs": [
    {
     "name": "stdout",
     "output_type": "stream",
     "text": [
      "<class 'pandas.core.frame.DataFrame'>\n",
      "Int64Index: 555308 entries, 0 to 606647\n",
      "Data columns (total 3 columns):\n",
      " #   Column              Non-Null Count   Dtype \n",
      "---  ------              --------------   ----- \n",
      " 0   person_id           555308 non-null  object\n",
      " 1   primary_name        555308 non-null  object\n",
      " 2   primary_profession  555308 non-null  object\n",
      "dtypes: object(3)\n",
      "memory usage: 16.9+ MB\n"
     ]
    }
   ],
   "source": [
    "#Confirm that the data is cleaned\n",
    "df_imdb_person.info()"
   ]
  },
  {
   "cell_type": "markdown",
   "id": "a30e29be",
   "metadata": {},
   "source": [
    "Again, there is no need for outliers"
   ]
  },
  {
   "cell_type": "markdown",
   "id": "6b15445b",
   "metadata": {},
   "source": [
    "##### 4.Df_imdb_fame"
   ]
  },
  {
   "cell_type": "code",
   "execution_count": 61,
   "id": "5f96f859",
   "metadata": {},
   "outputs": [
    {
     "data": {
      "text/plain": [
       "(1638260, 2)"
      ]
     },
     "execution_count": 61,
     "metadata": {},
     "output_type": "execute_result"
    }
   ],
   "source": [
    "#looking at the shape\n",
    "df_imdb_fame.shape"
   ]
  },
  {
   "cell_type": "code",
   "execution_count": 62,
   "id": "b13e995f",
   "metadata": {},
   "outputs": [
    {
     "name": "stdout",
     "output_type": "stream",
     "text": [
      "<class 'pandas.core.frame.DataFrame'>\n",
      "RangeIndex: 1638260 entries, 0 to 1638259\n",
      "Data columns (total 2 columns):\n",
      " #   Column     Non-Null Count    Dtype \n",
      "---  ------     --------------    ----- \n",
      " 0   person_id  1638260 non-null  object\n",
      " 1   movie_id   1638260 non-null  object\n",
      "dtypes: object(2)\n",
      "memory usage: 25.0+ MB\n"
     ]
    }
   ],
   "source": [
    "#looking at the data in columns\n",
    "df_imdb_fame.info()"
   ]
  },
  {
   "cell_type": "markdown",
   "id": "5788befe",
   "metadata": {},
   "source": [
    "The data seems okay, so I'll step onto the next"
   ]
  },
  {
   "cell_type": "markdown",
   "id": "3f3bb394",
   "metadata": {},
   "source": [
    "##### 5.Df_imdb_aka"
   ]
  },
  {
   "cell_type": "code",
   "execution_count": 63,
   "id": "90de0d9c",
   "metadata": {},
   "outputs": [
    {
     "data": {
      "text/plain": [
       "(331703, 8)"
      ]
     },
     "execution_count": 63,
     "metadata": {},
     "output_type": "execute_result"
    }
   ],
   "source": [
    "#looking at the shape\n",
    "df_imdb_aka.shape"
   ]
  },
  {
   "cell_type": "code",
   "execution_count": 64,
   "id": "134e3349",
   "metadata": {},
   "outputs": [
    {
     "name": "stdout",
     "output_type": "stream",
     "text": [
      "<class 'pandas.core.frame.DataFrame'>\n",
      "RangeIndex: 331703 entries, 0 to 331702\n",
      "Data columns (total 8 columns):\n",
      " #   Column             Non-Null Count   Dtype  \n",
      "---  ------             --------------   -----  \n",
      " 0   movie_id           331703 non-null  object \n",
      " 1   ordering           331703 non-null  int64  \n",
      " 2   title              331703 non-null  object \n",
      " 3   region             278410 non-null  object \n",
      " 4   language           41715 non-null   object \n",
      " 5   types              168447 non-null  object \n",
      " 6   attributes         14925 non-null   object \n",
      " 7   is_original_title  331678 non-null  float64\n",
      "dtypes: float64(1), int64(1), object(6)\n",
      "memory usage: 20.2+ MB\n"
     ]
    }
   ],
   "source": [
    "#looking at the contents in the column\n",
    "df_imdb_aka.info()"
   ]
  },
  {
   "cell_type": "markdown",
   "id": "6d02003e",
   "metadata": {},
   "source": [
    "Most of them are objects but I don't understand what are the reading in the contents so I'll check further"
   ]
  },
  {
   "cell_type": "code",
   "execution_count": 65,
   "id": "a5eb2eed",
   "metadata": {},
   "outputs": [
    {
     "data": {
      "text/html": [
       "<div>\n",
       "<style scoped>\n",
       "    .dataframe tbody tr th:only-of-type {\n",
       "        vertical-align: middle;\n",
       "    }\n",
       "\n",
       "    .dataframe tbody tr th {\n",
       "        vertical-align: top;\n",
       "    }\n",
       "\n",
       "    .dataframe thead th {\n",
       "        text-align: right;\n",
       "    }\n",
       "</style>\n",
       "<table border=\"1\" class=\"dataframe\">\n",
       "  <thead>\n",
       "    <tr style=\"text-align: right;\">\n",
       "      <th></th>\n",
       "      <th>movie_id</th>\n",
       "      <th>ordering</th>\n",
       "      <th>title</th>\n",
       "      <th>region</th>\n",
       "      <th>language</th>\n",
       "      <th>types</th>\n",
       "      <th>attributes</th>\n",
       "      <th>is_original_title</th>\n",
       "    </tr>\n",
       "  </thead>\n",
       "  <tbody>\n",
       "    <tr>\n",
       "      <th>0</th>\n",
       "      <td>tt0369610</td>\n",
       "      <td>10</td>\n",
       "      <td>Джурасик свят</td>\n",
       "      <td>BG</td>\n",
       "      <td>bg</td>\n",
       "      <td>None</td>\n",
       "      <td>None</td>\n",
       "      <td>0.0</td>\n",
       "    </tr>\n",
       "    <tr>\n",
       "      <th>1</th>\n",
       "      <td>tt0369610</td>\n",
       "      <td>11</td>\n",
       "      <td>Jurashikku warudo</td>\n",
       "      <td>JP</td>\n",
       "      <td>None</td>\n",
       "      <td>imdbDisplay</td>\n",
       "      <td>None</td>\n",
       "      <td>0.0</td>\n",
       "    </tr>\n",
       "    <tr>\n",
       "      <th>2</th>\n",
       "      <td>tt0369610</td>\n",
       "      <td>12</td>\n",
       "      <td>Jurassic World: O Mundo dos Dinossauros</td>\n",
       "      <td>BR</td>\n",
       "      <td>None</td>\n",
       "      <td>imdbDisplay</td>\n",
       "      <td>None</td>\n",
       "      <td>0.0</td>\n",
       "    </tr>\n",
       "    <tr>\n",
       "      <th>3</th>\n",
       "      <td>tt0369610</td>\n",
       "      <td>13</td>\n",
       "      <td>O Mundo dos Dinossauros</td>\n",
       "      <td>BR</td>\n",
       "      <td>None</td>\n",
       "      <td>None</td>\n",
       "      <td>short title</td>\n",
       "      <td>0.0</td>\n",
       "    </tr>\n",
       "    <tr>\n",
       "      <th>4</th>\n",
       "      <td>tt0369610</td>\n",
       "      <td>14</td>\n",
       "      <td>Jurassic World</td>\n",
       "      <td>FR</td>\n",
       "      <td>None</td>\n",
       "      <td>imdbDisplay</td>\n",
       "      <td>None</td>\n",
       "      <td>0.0</td>\n",
       "    </tr>\n",
       "  </tbody>\n",
       "</table>\n",
       "</div>"
      ],
      "text/plain": [
       "    movie_id  ordering                                    title region  \\\n",
       "0  tt0369610        10                            Джурасик свят     BG   \n",
       "1  tt0369610        11                        Jurashikku warudo     JP   \n",
       "2  tt0369610        12  Jurassic World: O Mundo dos Dinossauros     BR   \n",
       "3  tt0369610        13                  O Mundo dos Dinossauros     BR   \n",
       "4  tt0369610        14                           Jurassic World     FR   \n",
       "\n",
       "  language        types   attributes  is_original_title  \n",
       "0       bg         None         None                0.0  \n",
       "1     None  imdbDisplay         None                0.0  \n",
       "2     None  imdbDisplay         None                0.0  \n",
       "3     None         None  short title                0.0  \n",
       "4     None  imdbDisplay         None                0.0  "
      ]
     },
     "execution_count": 65,
     "metadata": {},
     "output_type": "execute_result"
    }
   ],
   "source": [
    "#looking at the first rows of data\n",
    "df_imdb_aka.head()"
   ]
  },
  {
   "cell_type": "markdown",
   "id": "e1e50f7c",
   "metadata": {},
   "source": [
    "I am not sure that I have any use with the data and so I canleave it at that"
   ]
  },
  {
   "cell_type": "markdown",
   "id": "ee9cd076",
   "metadata": {},
   "source": [
    "##### 6. Df_imdb_director"
   ]
  },
  {
   "cell_type": "code",
   "execution_count": 66,
   "id": "ccb6c16a",
   "metadata": {},
   "outputs": [
    {
     "data": {
      "text/plain": [
       "(291174, 2)"
      ]
     },
     "execution_count": 66,
     "metadata": {},
     "output_type": "execute_result"
    }
   ],
   "source": [
    "#looking at the shape\n",
    "df_imdb_director.shape"
   ]
  },
  {
   "cell_type": "code",
   "execution_count": 67,
   "id": "560b7974",
   "metadata": {},
   "outputs": [
    {
     "name": "stdout",
     "output_type": "stream",
     "text": [
      "<class 'pandas.core.frame.DataFrame'>\n",
      "RangeIndex: 291174 entries, 0 to 291173\n",
      "Data columns (total 2 columns):\n",
      " #   Column     Non-Null Count   Dtype \n",
      "---  ------     --------------   ----- \n",
      " 0   movie_id   291174 non-null  object\n",
      " 1   person_id  291174 non-null  object\n",
      "dtypes: object(2)\n",
      "memory usage: 4.4+ MB\n"
     ]
    }
   ],
   "source": [
    "#looking at the contents\n",
    "df_imdb_director.info()"
   ]
  },
  {
   "cell_type": "markdown",
   "id": "77d1d989",
   "metadata": {},
   "source": [
    "The data seems okay, so I'll just leave it for now"
   ]
  },
  {
   "cell_type": "markdown",
   "id": "c690e83c",
   "metadata": {},
   "source": [
    "##### 7.Df_imdb_writer\n"
   ]
  },
  {
   "cell_type": "code",
   "execution_count": 68,
   "id": "d0b245a0",
   "metadata": {},
   "outputs": [
    {
     "data": {
      "text/plain": [
       "(255873, 2)"
      ]
     },
     "execution_count": 68,
     "metadata": {},
     "output_type": "execute_result"
    }
   ],
   "source": [
    "#looking at the shape\n",
    "df_imdb_writer.shape"
   ]
  },
  {
   "cell_type": "code",
   "execution_count": 69,
   "id": "ff559439",
   "metadata": {},
   "outputs": [
    {
     "name": "stdout",
     "output_type": "stream",
     "text": [
      "<class 'pandas.core.frame.DataFrame'>\n",
      "RangeIndex: 255873 entries, 0 to 255872\n",
      "Data columns (total 2 columns):\n",
      " #   Column     Non-Null Count   Dtype \n",
      "---  ------     --------------   ----- \n",
      " 0   movie_id   255873 non-null  object\n",
      " 1   person_id  255873 non-null  object\n",
      "dtypes: object(2)\n",
      "memory usage: 3.9+ MB\n"
     ]
    }
   ],
   "source": [
    "#looking at the contents\n",
    "df_imdb_writer.info()"
   ]
  },
  {
   "cell_type": "markdown",
   "id": "a602dc4f",
   "metadata": {},
   "source": [
    "This also seems okay we can leave it"
   ]
  },
  {
   "cell_type": "markdown",
   "id": "83e3e2d0",
   "metadata": {},
   "source": [
    "## Data Analysis"
   ]
  },
  {
   "cell_type": "markdown",
   "id": "f3ac4745",
   "metadata": {},
   "source": [
    "In this stage I am going to use the data cleaned to look at the relations between the tables and see whether I can merge them or use them for nay calculations"
   ]
  },
  {
   "cell_type": "markdown",
   "id": "663b7f1b",
   "metadata": {},
   "source": [
    "### Financial Data"
   ]
  },
  {
   "cell_type": "markdown",
   "id": "b20eb07c",
   "metadata": {},
   "source": [
    "I will start by merging the gross and budget table"
   ]
  },
  {
   "cell_type": "code",
   "execution_count": 70,
   "id": "55c13398",
   "metadata": {},
   "outputs": [
    {
     "data": {
      "text/html": [
       "<div>\n",
       "<style scoped>\n",
       "    .dataframe tbody tr th:only-of-type {\n",
       "        vertical-align: middle;\n",
       "    }\n",
       "\n",
       "    .dataframe tbody tr th {\n",
       "        vertical-align: top;\n",
       "    }\n",
       "\n",
       "    .dataframe thead th {\n",
       "        text-align: right;\n",
       "    }\n",
       "</style>\n",
       "<table border=\"1\" class=\"dataframe\">\n",
       "  <thead>\n",
       "    <tr style=\"text-align: right;\">\n",
       "      <th></th>\n",
       "      <th>title</th>\n",
       "      <th>studio</th>\n",
       "      <th>domestic_gross_x</th>\n",
       "      <th>year</th>\n",
       "      <th>id</th>\n",
       "      <th>release_date</th>\n",
       "      <th>movie</th>\n",
       "      <th>production_budget</th>\n",
       "      <th>domestic_gross_y</th>\n",
       "      <th>worldwide_gross</th>\n",
       "    </tr>\n",
       "  </thead>\n",
       "  <tbody>\n",
       "    <tr>\n",
       "      <th>0</th>\n",
       "      <td>The Karate Kid</td>\n",
       "      <td>Sony</td>\n",
       "      <td>176600000.0</td>\n",
       "      <td>2010</td>\n",
       "      <td>63</td>\n",
       "      <td>Jun 22, 1984</td>\n",
       "      <td>The Karate Kid</td>\n",
       "      <td>8000000.0</td>\n",
       "      <td>90815558.0</td>\n",
       "      <td>90815558.0</td>\n",
       "    </tr>\n",
       "    <tr>\n",
       "      <th>1</th>\n",
       "      <td>The Bounty Hunter</td>\n",
       "      <td>Sony</td>\n",
       "      <td>67099999.0</td>\n",
       "      <td>2010</td>\n",
       "      <td>73</td>\n",
       "      <td>Mar 19, 2010</td>\n",
       "      <td>The Bounty Hunter</td>\n",
       "      <td>45000000.0</td>\n",
       "      <td>67061228.0</td>\n",
       "      <td>135808837.0</td>\n",
       "    </tr>\n",
       "    <tr>\n",
       "      <th>2</th>\n",
       "      <td>Saw 3D</td>\n",
       "      <td>LGF</td>\n",
       "      <td>45700000.0</td>\n",
       "      <td>2010</td>\n",
       "      <td>79</td>\n",
       "      <td>Oct 29, 2010</td>\n",
       "      <td>Saw 3D</td>\n",
       "      <td>17000000.0</td>\n",
       "      <td>45710178.0</td>\n",
       "      <td>133735284.0</td>\n",
       "    </tr>\n",
       "  </tbody>\n",
       "</table>\n",
       "</div>"
      ],
      "text/plain": [
       "               title studio  domestic_gross_x  year  id  release_date  \\\n",
       "0     The Karate Kid   Sony       176600000.0  2010  63  Jun 22, 1984   \n",
       "1  The Bounty Hunter   Sony        67099999.0  2010  73  Mar 19, 2010   \n",
       "2             Saw 3D    LGF        45700000.0  2010  79  Oct 29, 2010   \n",
       "\n",
       "               movie  production_budget  domestic_gross_y  worldwide_gross  \n",
       "0     The Karate Kid          8000000.0        90815558.0       90815558.0  \n",
       "1  The Bounty Hunter         45000000.0        67061228.0      135808837.0  \n",
       "2             Saw 3D         17000000.0        45710178.0      133735284.0  "
      ]
     },
     "execution_count": 70,
     "metadata": {},
     "output_type": "execute_result"
    }
   ],
   "source": [
    "#merging gross to budgets\n",
    "df_finance = df_gross.merge(df_budgets, left_on='title', right_on='movie', how='inner')\n",
    "\n",
    "#confirming the merge\n",
    "df_finance.head(3)"
   ]
  },
  {
   "cell_type": "markdown",
   "id": "75da11ea",
   "metadata": {},
   "source": [
    "Considering that the domestic grosses are different it could be a matter of different currencies and therefore I will drop one column"
   ]
  },
  {
   "cell_type": "code",
   "execution_count": 71,
   "id": "efbafeb8",
   "metadata": {},
   "outputs": [
    {
     "data": {
      "text/html": [
       "<div>\n",
       "<style scoped>\n",
       "    .dataframe tbody tr th:only-of-type {\n",
       "        vertical-align: middle;\n",
       "    }\n",
       "\n",
       "    .dataframe tbody tr th {\n",
       "        vertical-align: top;\n",
       "    }\n",
       "\n",
       "    .dataframe thead th {\n",
       "        text-align: right;\n",
       "    }\n",
       "</style>\n",
       "<table border=\"1\" class=\"dataframe\">\n",
       "  <thead>\n",
       "    <tr style=\"text-align: right;\">\n",
       "      <th></th>\n",
       "      <th>title</th>\n",
       "      <th>studio</th>\n",
       "      <th>year</th>\n",
       "      <th>id</th>\n",
       "      <th>release_date</th>\n",
       "      <th>movie</th>\n",
       "      <th>production_budget</th>\n",
       "      <th>domestic_gross</th>\n",
       "      <th>worldwide_gross</th>\n",
       "    </tr>\n",
       "  </thead>\n",
       "  <tbody>\n",
       "    <tr>\n",
       "      <th>0</th>\n",
       "      <td>The Karate Kid</td>\n",
       "      <td>Sony</td>\n",
       "      <td>2010</td>\n",
       "      <td>63</td>\n",
       "      <td>Jun 22, 1984</td>\n",
       "      <td>The Karate Kid</td>\n",
       "      <td>8000000.0</td>\n",
       "      <td>90815558.0</td>\n",
       "      <td>90815558.0</td>\n",
       "    </tr>\n",
       "  </tbody>\n",
       "</table>\n",
       "</div>"
      ],
      "text/plain": [
       "            title studio  year  id  release_date           movie  \\\n",
       "0  The Karate Kid   Sony  2010  63  Jun 22, 1984  The Karate Kid   \n",
       "\n",
       "   production_budget  domestic_gross  worldwide_gross  \n",
       "0          8000000.0      90815558.0       90815558.0  "
      ]
     },
     "execution_count": 71,
     "metadata": {},
     "output_type": "execute_result"
    }
   ],
   "source": [
    "#dropping the domestic_gross_x\n",
    "df_finance.drop(columns='domestic_gross_x', inplace=True)\n",
    "#renaming the domestic_y\n",
    "df_finance.rename(columns={'domestic_gross_y': 'domestic_gross'}, inplace=True)\n",
    "#confirming the changes\n",
    "df_finance.head(1)"
   ]
  },
  {
   "cell_type": "markdown",
   "id": "a4c0a6c6",
   "metadata": {},
   "source": [
    "I want to look at the profits from the production"
   ]
  },
  {
   "cell_type": "markdown",
   "id": "3e19a7e5",
   "metadata": {},
   "source": [
    "###### Finance profits"
   ]
  },
  {
   "cell_type": "markdown",
   "id": "97e8c119",
   "metadata": {},
   "source": [
    "To calculate the profits I will use the formular gross - budget"
   ]
  },
  {
   "cell_type": "code",
   "execution_count": 72,
   "id": "7d280a8f",
   "metadata": {},
   "outputs": [
    {
     "data": {
      "text/plain": [
       "0     82815558.0\n",
       "1     90808837.0\n",
       "2    116735284.0\n",
       "3    118262388.0\n",
       "4     87234389.0\n",
       "dtype: float64"
      ]
     },
     "execution_count": 72,
     "metadata": {},
     "output_type": "execute_result"
    }
   ],
   "source": [
    "df_finance_profit = df_finance['worldwide_gross'] - df_finance['production_budget']\n",
    "df_finance_profit.head()"
   ]
  },
  {
   "cell_type": "markdown",
   "id": "eb2250c7",
   "metadata": {},
   "source": [
    "## Movie Data"
   ]
  },
  {
   "cell_type": "markdown",
   "id": "15f2f53f",
   "metadata": {},
   "source": [
    "I want to look at the movie charts"
   ]
  },
  {
   "cell_type": "code",
   "execution_count": 73,
   "id": "103282c9",
   "metadata": {},
   "outputs": [
    {
     "data": {
      "text/html": [
       "<div>\n",
       "<style scoped>\n",
       "    .dataframe tbody tr th:only-of-type {\n",
       "        vertical-align: middle;\n",
       "    }\n",
       "\n",
       "    .dataframe tbody tr th {\n",
       "        vertical-align: top;\n",
       "    }\n",
       "\n",
       "    .dataframe thead th {\n",
       "        text-align: right;\n",
       "    }\n",
       "</style>\n",
       "<table border=\"1\" class=\"dataframe\">\n",
       "  <thead>\n",
       "    <tr style=\"text-align: right;\">\n",
       "      <th></th>\n",
       "      <th>id</th>\n",
       "      <th>popularity</th>\n",
       "      <th>title</th>\n",
       "      <th>vote_average</th>\n",
       "      <th>vote_count</th>\n",
       "    </tr>\n",
       "  </thead>\n",
       "  <tbody>\n",
       "    <tr>\n",
       "      <th>229</th>\n",
       "      <td>43956</td>\n",
       "      <td>8.142</td>\n",
       "      <td>Tom and Jerry Meet Sherlock Holmes</td>\n",
       "      <td>6.6</td>\n",
       "      <td>19</td>\n",
       "    </tr>\n",
       "    <tr>\n",
       "      <th>292</th>\n",
       "      <td>31196</td>\n",
       "      <td>7.280</td>\n",
       "      <td>Growth</td>\n",
       "      <td>5.2</td>\n",
       "      <td>33</td>\n",
       "    </tr>\n",
       "  </tbody>\n",
       "</table>\n",
       "</div>"
      ],
      "text/plain": [
       "        id  popularity                               title  vote_average  \\\n",
       "229  43956       8.142  Tom and Jerry Meet Sherlock Holmes           6.6   \n",
       "292  31196       7.280                              Growth           5.2   \n",
       "\n",
       "     vote_count  \n",
       "229          19  \n",
       "292          33  "
      ]
     },
     "execution_count": 73,
     "metadata": {},
     "output_type": "execute_result"
    }
   ],
   "source": [
    "#looking at the first rows of data\n",
    "df_tmdb.head(2)"
   ]
  },
  {
   "cell_type": "markdown",
   "id": "5f0d1e95",
   "metadata": {},
   "source": [
    "From the data we can see that our title matches up with the finance data frame. We can use this to our advantage to merge the tables"
   ]
  },
  {
   "cell_type": "code",
   "execution_count": 74,
   "id": "15b929ab",
   "metadata": {},
   "outputs": [
    {
     "data": {
      "text/html": [
       "<div>\n",
       "<style scoped>\n",
       "    .dataframe tbody tr th:only-of-type {\n",
       "        vertical-align: middle;\n",
       "    }\n",
       "\n",
       "    .dataframe tbody tr th {\n",
       "        vertical-align: top;\n",
       "    }\n",
       "\n",
       "    .dataframe thead th {\n",
       "        text-align: right;\n",
       "    }\n",
       "</style>\n",
       "<table border=\"1\" class=\"dataframe\">\n",
       "  <thead>\n",
       "    <tr style=\"text-align: right;\">\n",
       "      <th></th>\n",
       "      <th>title</th>\n",
       "      <th>studio</th>\n",
       "      <th>year</th>\n",
       "      <th>id_x</th>\n",
       "      <th>release_date</th>\n",
       "      <th>movie</th>\n",
       "      <th>production_budget</th>\n",
       "      <th>domestic_gross</th>\n",
       "      <th>worldwide_gross</th>\n",
       "      <th>id_y</th>\n",
       "      <th>popularity</th>\n",
       "      <th>vote_average</th>\n",
       "      <th>vote_count</th>\n",
       "    </tr>\n",
       "  </thead>\n",
       "  <tbody>\n",
       "    <tr>\n",
       "      <th>0</th>\n",
       "      <td>Edge of Darkness</td>\n",
       "      <td>WB</td>\n",
       "      <td>2010</td>\n",
       "      <td>8</td>\n",
       "      <td>Jan 29, 2010</td>\n",
       "      <td>Edge of Darkness</td>\n",
       "      <td>60000000.0</td>\n",
       "      <td>43313890.0</td>\n",
       "      <td>82812456.0</td>\n",
       "      <td>468788</td>\n",
       "      <td>0.600</td>\n",
       "      <td>7.0</td>\n",
       "      <td>1</td>\n",
       "    </tr>\n",
       "    <tr>\n",
       "      <th>1</th>\n",
       "      <td>For Colored Girls</td>\n",
       "      <td>LGF</td>\n",
       "      <td>2010</td>\n",
       "      <td>67</td>\n",
       "      <td>Nov 5, 2010</td>\n",
       "      <td>For Colored Girls</td>\n",
       "      <td>21000000.0</td>\n",
       "      <td>37729698.0</td>\n",
       "      <td>38017873.0</td>\n",
       "      <td>44944</td>\n",
       "      <td>2.858</td>\n",
       "      <td>6.8</td>\n",
       "      <td>33</td>\n",
       "    </tr>\n",
       "    <tr>\n",
       "      <th>2</th>\n",
       "      <td>Leap Year</td>\n",
       "      <td>Uni.</td>\n",
       "      <td>2010</td>\n",
       "      <td>40</td>\n",
       "      <td>Jan 8, 2010</td>\n",
       "      <td>Leap Year</td>\n",
       "      <td>19000000.0</td>\n",
       "      <td>25918920.0</td>\n",
       "      <td>32618920.0</td>\n",
       "      <td>63555</td>\n",
       "      <td>2.563</td>\n",
       "      <td>5.6</td>\n",
       "      <td>30</td>\n",
       "    </tr>\n",
       "    <tr>\n",
       "      <th>3</th>\n",
       "      <td>Let Me In</td>\n",
       "      <td>Over.</td>\n",
       "      <td>2010</td>\n",
       "      <td>38</td>\n",
       "      <td>Oct 1, 2010</td>\n",
       "      <td>Let Me In</td>\n",
       "      <td>20000000.0</td>\n",
       "      <td>12134935.0</td>\n",
       "      <td>28270399.0</td>\n",
       "      <td>430926</td>\n",
       "      <td>0.675</td>\n",
       "      <td>7.0</td>\n",
       "      <td>2</td>\n",
       "    </tr>\n",
       "    <tr>\n",
       "      <th>4</th>\n",
       "      <td>Another Year</td>\n",
       "      <td>SPC</td>\n",
       "      <td>2010</td>\n",
       "      <td>8</td>\n",
       "      <td>Dec 29, 2010</td>\n",
       "      <td>Another Year</td>\n",
       "      <td>8000000.0</td>\n",
       "      <td>3205706.0</td>\n",
       "      <td>20005613.0</td>\n",
       "      <td>255898</td>\n",
       "      <td>1.004</td>\n",
       "      <td>6.3</td>\n",
       "      <td>4</td>\n",
       "    </tr>\n",
       "  </tbody>\n",
       "</table>\n",
       "</div>"
      ],
      "text/plain": [
       "               title studio  year  id_x  release_date              movie  \\\n",
       "0   Edge of Darkness     WB  2010     8  Jan 29, 2010   Edge of Darkness   \n",
       "1  For Colored Girls    LGF  2010    67   Nov 5, 2010  For Colored Girls   \n",
       "2          Leap Year   Uni.  2010    40   Jan 8, 2010          Leap Year   \n",
       "3          Let Me In  Over.  2010    38   Oct 1, 2010          Let Me In   \n",
       "4       Another Year    SPC  2010     8  Dec 29, 2010       Another Year   \n",
       "\n",
       "   production_budget  domestic_gross  worldwide_gross    id_y  popularity  \\\n",
       "0         60000000.0      43313890.0       82812456.0  468788       0.600   \n",
       "1         21000000.0      37729698.0       38017873.0   44944       2.858   \n",
       "2         19000000.0      25918920.0       32618920.0   63555       2.563   \n",
       "3         20000000.0      12134935.0       28270399.0  430926       0.675   \n",
       "4          8000000.0       3205706.0       20005613.0  255898       1.004   \n",
       "\n",
       "   vote_average  vote_count  \n",
       "0           7.0           1  \n",
       "1           6.8          33  \n",
       "2           5.6          30  \n",
       "3           7.0           2  \n",
       "4           6.3           4  "
      ]
     },
     "execution_count": 74,
     "metadata": {},
     "output_type": "execute_result"
    }
   ],
   "source": [
    "#merging tmdb and finance\n",
    "df_movie = df_finance.merge(df_tmdb, on='title', how='inner')\n",
    "#confirming the merge\n",
    "df_movie.head()"
   ]
  },
  {
   "cell_type": "markdown",
   "id": "b6fa8f73",
   "metadata": {},
   "source": [
    "I don't think we need the id's and the movie so I'll remove all"
   ]
  },
  {
   "cell_type": "code",
   "execution_count": 75,
   "id": "f9b083e1",
   "metadata": {},
   "outputs": [
    {
     "data": {
      "text/html": [
       "<div>\n",
       "<style scoped>\n",
       "    .dataframe tbody tr th:only-of-type {\n",
       "        vertical-align: middle;\n",
       "    }\n",
       "\n",
       "    .dataframe tbody tr th {\n",
       "        vertical-align: top;\n",
       "    }\n",
       "\n",
       "    .dataframe thead th {\n",
       "        text-align: right;\n",
       "    }\n",
       "</style>\n",
       "<table border=\"1\" class=\"dataframe\">\n",
       "  <thead>\n",
       "    <tr style=\"text-align: right;\">\n",
       "      <th></th>\n",
       "      <th>title</th>\n",
       "      <th>studio</th>\n",
       "      <th>year</th>\n",
       "      <th>release_date</th>\n",
       "      <th>production_budget</th>\n",
       "      <th>domestic_gross</th>\n",
       "      <th>worldwide_gross</th>\n",
       "      <th>popularity</th>\n",
       "      <th>vote_average</th>\n",
       "      <th>vote_count</th>\n",
       "    </tr>\n",
       "  </thead>\n",
       "  <tbody>\n",
       "    <tr>\n",
       "      <th>0</th>\n",
       "      <td>Edge of Darkness</td>\n",
       "      <td>WB</td>\n",
       "      <td>2010</td>\n",
       "      <td>Jan 29, 2010</td>\n",
       "      <td>60000000.0</td>\n",
       "      <td>43313890.0</td>\n",
       "      <td>82812456.0</td>\n",
       "      <td>0.6</td>\n",
       "      <td>7.0</td>\n",
       "      <td>1</td>\n",
       "    </tr>\n",
       "  </tbody>\n",
       "</table>\n",
       "</div>"
      ],
      "text/plain": [
       "              title studio  year  release_date  production_budget  \\\n",
       "0  Edge of Darkness     WB  2010  Jan 29, 2010         60000000.0   \n",
       "\n",
       "   domestic_gross  worldwide_gross  popularity  vote_average  vote_count  \n",
       "0      43313890.0       82812456.0         0.6           7.0           1  "
      ]
     },
     "execution_count": 75,
     "metadata": {},
     "output_type": "execute_result"
    }
   ],
   "source": [
    "#dropping the ids\n",
    "df_movie.drop(columns=['id_x', 'id_y', 'movie'], inplace=True)\n",
    "#confirming the drop\n",
    "df_movie.head(1)"
   ]
  },
  {
   "cell_type": "markdown",
   "id": "14a2eb4d",
   "metadata": {},
   "source": [
    "I have the necessary data from the movie information on finance and statistics. We also have some other data from the information that can be merged to our table from the imdb"
   ]
  },
  {
   "cell_type": "code",
   "execution_count": 76,
   "id": "ed3b2b0c",
   "metadata": {},
   "outputs": [
    {
     "data": {
      "text/html": [
       "<div>\n",
       "<style scoped>\n",
       "    .dataframe tbody tr th:only-of-type {\n",
       "        vertical-align: middle;\n",
       "    }\n",
       "\n",
       "    .dataframe tbody tr th {\n",
       "        vertical-align: top;\n",
       "    }\n",
       "\n",
       "    .dataframe thead th {\n",
       "        text-align: right;\n",
       "    }\n",
       "</style>\n",
       "<table border=\"1\" class=\"dataframe\">\n",
       "  <thead>\n",
       "    <tr style=\"text-align: right;\">\n",
       "      <th></th>\n",
       "      <th>movie_id</th>\n",
       "      <th>primary_title</th>\n",
       "      <th>genres</th>\n",
       "    </tr>\n",
       "  </thead>\n",
       "  <tbody>\n",
       "    <tr>\n",
       "      <th>0</th>\n",
       "      <td>tt0063540</td>\n",
       "      <td>Sunghursh</td>\n",
       "      <td>Action,Crime,Drama</td>\n",
       "    </tr>\n",
       "    <tr>\n",
       "      <th>1</th>\n",
       "      <td>tt0066787</td>\n",
       "      <td>One Day Before the Rainy Season</td>\n",
       "      <td>Biography,Drama</td>\n",
       "    </tr>\n",
       "    <tr>\n",
       "      <th>2</th>\n",
       "      <td>tt0069049</td>\n",
       "      <td>The Other Side of the Wind</td>\n",
       "      <td>Drama</td>\n",
       "    </tr>\n",
       "  </tbody>\n",
       "</table>\n",
       "</div>"
      ],
      "text/plain": [
       "    movie_id                    primary_title              genres\n",
       "0  tt0063540                        Sunghursh  Action,Crime,Drama\n",
       "1  tt0066787  One Day Before the Rainy Season     Biography,Drama\n",
       "2  tt0069049       The Other Side of the Wind               Drama"
      ]
     },
     "execution_count": 76,
     "metadata": {},
     "output_type": "execute_result"
    }
   ],
   "source": [
    "#looking at the first rows of data\n",
    "df_imdb_basics.head(3)"
   ]
  },
  {
   "cell_type": "code",
   "execution_count": 77,
   "id": "4efb26f9",
   "metadata": {},
   "outputs": [
    {
     "data": {
      "text/html": [
       "<div>\n",
       "<style scoped>\n",
       "    .dataframe tbody tr th:only-of-type {\n",
       "        vertical-align: middle;\n",
       "    }\n",
       "\n",
       "    .dataframe tbody tr th {\n",
       "        vertical-align: top;\n",
       "    }\n",
       "\n",
       "    .dataframe thead th {\n",
       "        text-align: right;\n",
       "    }\n",
       "</style>\n",
       "<table border=\"1\" class=\"dataframe\">\n",
       "  <thead>\n",
       "    <tr style=\"text-align: right;\">\n",
       "      <th></th>\n",
       "      <th>movie_id</th>\n",
       "      <th>primary_title</th>\n",
       "      <th>genres</th>\n",
       "      <th>title</th>\n",
       "      <th>studio</th>\n",
       "      <th>year</th>\n",
       "      <th>release_date</th>\n",
       "      <th>production_budget</th>\n",
       "      <th>domestic_gross</th>\n",
       "      <th>worldwide_gross</th>\n",
       "      <th>popularity</th>\n",
       "      <th>vote_average</th>\n",
       "      <th>vote_count</th>\n",
       "    </tr>\n",
       "  </thead>\n",
       "  <tbody>\n",
       "    <tr>\n",
       "      <th>0</th>\n",
       "      <td>tt0063540</td>\n",
       "      <td>Sunghursh</td>\n",
       "      <td>Action,Crime,Drama</td>\n",
       "      <td>NaN</td>\n",
       "      <td>NaN</td>\n",
       "      <td>NaN</td>\n",
       "      <td>NaN</td>\n",
       "      <td>NaN</td>\n",
       "      <td>NaN</td>\n",
       "      <td>NaN</td>\n",
       "      <td>NaN</td>\n",
       "      <td>NaN</td>\n",
       "      <td>NaN</td>\n",
       "    </tr>\n",
       "    <tr>\n",
       "      <th>1</th>\n",
       "      <td>tt0066787</td>\n",
       "      <td>One Day Before the Rainy Season</td>\n",
       "      <td>Biography,Drama</td>\n",
       "      <td>NaN</td>\n",
       "      <td>NaN</td>\n",
       "      <td>NaN</td>\n",
       "      <td>NaN</td>\n",
       "      <td>NaN</td>\n",
       "      <td>NaN</td>\n",
       "      <td>NaN</td>\n",
       "      <td>NaN</td>\n",
       "      <td>NaN</td>\n",
       "      <td>NaN</td>\n",
       "    </tr>\n",
       "    <tr>\n",
       "      <th>2</th>\n",
       "      <td>tt0069049</td>\n",
       "      <td>The Other Side of the Wind</td>\n",
       "      <td>Drama</td>\n",
       "      <td>NaN</td>\n",
       "      <td>NaN</td>\n",
       "      <td>NaN</td>\n",
       "      <td>NaN</td>\n",
       "      <td>NaN</td>\n",
       "      <td>NaN</td>\n",
       "      <td>NaN</td>\n",
       "      <td>NaN</td>\n",
       "      <td>NaN</td>\n",
       "      <td>NaN</td>\n",
       "    </tr>\n",
       "    <tr>\n",
       "      <th>3</th>\n",
       "      <td>tt0100275</td>\n",
       "      <td>The Wandering Soap Opera</td>\n",
       "      <td>Comedy,Drama,Fantasy</td>\n",
       "      <td>NaN</td>\n",
       "      <td>NaN</td>\n",
       "      <td>NaN</td>\n",
       "      <td>NaN</td>\n",
       "      <td>NaN</td>\n",
       "      <td>NaN</td>\n",
       "      <td>NaN</td>\n",
       "      <td>NaN</td>\n",
       "      <td>NaN</td>\n",
       "      <td>NaN</td>\n",
       "    </tr>\n",
       "    <tr>\n",
       "      <th>4</th>\n",
       "      <td>tt0111414</td>\n",
       "      <td>A Thin Life</td>\n",
       "      <td>Comedy</td>\n",
       "      <td>NaN</td>\n",
       "      <td>NaN</td>\n",
       "      <td>NaN</td>\n",
       "      <td>NaN</td>\n",
       "      <td>NaN</td>\n",
       "      <td>NaN</td>\n",
       "      <td>NaN</td>\n",
       "      <td>NaN</td>\n",
       "      <td>NaN</td>\n",
       "      <td>NaN</td>\n",
       "    </tr>\n",
       "  </tbody>\n",
       "</table>\n",
       "</div>"
      ],
      "text/plain": [
       "    movie_id                    primary_title                genres title  \\\n",
       "0  tt0063540                        Sunghursh    Action,Crime,Drama   NaN   \n",
       "1  tt0066787  One Day Before the Rainy Season       Biography,Drama   NaN   \n",
       "2  tt0069049       The Other Side of the Wind                 Drama   NaN   \n",
       "3  tt0100275         The Wandering Soap Opera  Comedy,Drama,Fantasy   NaN   \n",
       "4  tt0111414                      A Thin Life                Comedy   NaN   \n",
       "\n",
       "  studio  year release_date  production_budget  domestic_gross  \\\n",
       "0    NaN   NaN          NaN                NaN             NaN   \n",
       "1    NaN   NaN          NaN                NaN             NaN   \n",
       "2    NaN   NaN          NaN                NaN             NaN   \n",
       "3    NaN   NaN          NaN                NaN             NaN   \n",
       "4    NaN   NaN          NaN                NaN             NaN   \n",
       "\n",
       "   worldwide_gross  popularity  vote_average  vote_count  \n",
       "0              NaN         NaN           NaN         NaN  \n",
       "1              NaN         NaN           NaN         NaN  \n",
       "2              NaN         NaN           NaN         NaN  \n",
       "3              NaN         NaN           NaN         NaN  \n",
       "4              NaN         NaN           NaN         NaN  "
      ]
     },
     "execution_count": 77,
     "metadata": {},
     "output_type": "execute_result"
    }
   ],
   "source": [
    "#I am merging with the imdb\n",
    "df_movie = df_imdb_basics.merge(df_movie, left_on='primary_title', right_on='title', how='left')\n",
    "df_movie.head()"
   ]
  },
  {
   "cell_type": "markdown",
   "id": "9c6fa926",
   "metadata": {},
   "source": [
    "I think I'll also have to clean the data by removing the null values"
   ]
  },
  {
   "cell_type": "code",
   "execution_count": 78,
   "id": "26dec491",
   "metadata": {},
   "outputs": [
    {
     "data": {
      "text/plain": [
       "(112282, 13)"
      ]
     },
     "execution_count": 78,
     "metadata": {},
     "output_type": "execute_result"
    }
   ],
   "source": [
    "#Checking the shape\n",
    "df_movie.shape"
   ]
  },
  {
   "cell_type": "code",
   "execution_count": 79,
   "id": "6312b869",
   "metadata": {},
   "outputs": [
    {
     "name": "stdout",
     "output_type": "stream",
     "text": [
      "<class 'pandas.core.frame.DataFrame'>\n",
      "Int64Index: 112282 entries, 0 to 112281\n",
      "Data columns (total 13 columns):\n",
      " #   Column             Non-Null Count   Dtype  \n",
      "---  ------             --------------   -----  \n",
      " 0   movie_id           112282 non-null  object \n",
      " 1   primary_title      112282 non-null  object \n",
      " 2   genres             112282 non-null  object \n",
      " 3   title              198 non-null     object \n",
      " 4   studio             198 non-null     object \n",
      " 5   year               198 non-null     float64\n",
      " 6   release_date       198 non-null     object \n",
      " 7   production_budget  198 non-null     float64\n",
      " 8   domestic_gross     198 non-null     float64\n",
      " 9   worldwide_gross    198 non-null     float64\n",
      " 10  popularity         198 non-null     float64\n",
      " 11  vote_average       198 non-null     float64\n",
      " 12  vote_count         198 non-null     float64\n",
      "dtypes: float64(7), object(6)\n",
      "memory usage: 12.0+ MB\n"
     ]
    }
   ],
   "source": [
    "#checking the data columns\n",
    "df_movie.info()"
   ]
  },
  {
   "cell_type": "markdown",
   "id": "ea8d40f1",
   "metadata": {},
   "source": [
    "I can see that that removing the null values will affect the data so we con ignore"
   ]
  },
  {
   "cell_type": "markdown",
   "id": "40919c0d",
   "metadata": {},
   "source": [
    "### People"
   ]
  },
  {
   "cell_type": "markdown",
   "id": "c7b8ac9b",
   "metadata": {},
   "source": [
    "We can merge the df_rt to the df_imdb_person to gather the people's information. Our tables don't have a relationship so we will just directly merge them and sort them out later."
   ]
  },
  {
   "cell_type": "code",
   "execution_count": 80,
   "id": "bc41d2cc",
   "metadata": {},
   "outputs": [],
   "source": [
    "#merging the two data frames\n",
    "df_people = pd.merge(df_rt, df_imdb_person, left_index=True, right_index=True)"
   ]
  },
  {
   "cell_type": "code",
   "execution_count": 81,
   "id": "a269f694",
   "metadata": {},
   "outputs": [
    {
     "data": {
      "text/html": [
       "<div>\n",
       "<style scoped>\n",
       "    .dataframe tbody tr th:only-of-type {\n",
       "        vertical-align: middle;\n",
       "    }\n",
       "\n",
       "    .dataframe tbody tr th {\n",
       "        vertical-align: top;\n",
       "    }\n",
       "\n",
       "    .dataframe thead th {\n",
       "        text-align: right;\n",
       "    }\n",
       "</style>\n",
       "<table border=\"1\" class=\"dataframe\">\n",
       "  <thead>\n",
       "    <tr style=\"text-align: right;\">\n",
       "      <th></th>\n",
       "      <th>rating</th>\n",
       "      <th>genre</th>\n",
       "      <th>director</th>\n",
       "      <th>writer</th>\n",
       "      <th>person_id</th>\n",
       "      <th>primary_name</th>\n",
       "      <th>primary_profession</th>\n",
       "    </tr>\n",
       "  </thead>\n",
       "  <tbody>\n",
       "    <tr>\n",
       "      <th>0</th>\n",
       "      <td>R</td>\n",
       "      <td>Action and Adventure|Classics|Drama</td>\n",
       "      <td>William Friedkin</td>\n",
       "      <td>Ernest Tidyman</td>\n",
       "      <td>nm0061671</td>\n",
       "      <td>Mary Ellen Bauder</td>\n",
       "      <td>miscellaneous,production_manager,producer</td>\n",
       "    </tr>\n",
       "    <tr>\n",
       "      <th>1</th>\n",
       "      <td>R</td>\n",
       "      <td>Drama|Science Fiction and Fantasy</td>\n",
       "      <td>David Cronenberg</td>\n",
       "      <td>David Cronenberg|Don DeLillo</td>\n",
       "      <td>nm0061865</td>\n",
       "      <td>Joseph Bauer</td>\n",
       "      <td>composer,music_department,sound_department</td>\n",
       "    </tr>\n",
       "  </tbody>\n",
       "</table>\n",
       "</div>"
      ],
      "text/plain": [
       "  rating                                genre          director  \\\n",
       "0      R  Action and Adventure|Classics|Drama  William Friedkin   \n",
       "1      R    Drama|Science Fiction and Fantasy  David Cronenberg   \n",
       "\n",
       "                         writer  person_id       primary_name  \\\n",
       "0                Ernest Tidyman  nm0061671  Mary Ellen Bauder   \n",
       "1  David Cronenberg|Don DeLillo  nm0061865       Joseph Bauer   \n",
       "\n",
       "                           primary_profession  \n",
       "0   miscellaneous,production_manager,producer  \n",
       "1  composer,music_department,sound_department  "
      ]
     },
     "execution_count": 81,
     "metadata": {},
     "output_type": "execute_result"
    }
   ],
   "source": [
    "#confirming the merge\n",
    "df_people.head(2)"
   ]
  },
  {
   "cell_type": "markdown",
   "id": "0e770f21",
   "metadata": {},
   "source": [
    "Our data is merged but we have a problem. The names do not matc and we need data in which the names actually match. So I will create aprocess in which I will rrematch the data"
   ]
  },
  {
   "cell_type": "code",
   "execution_count": 82,
   "id": "0ae2db2b",
   "metadata": {},
   "outputs": [],
   "source": [
    "#I will start by creating a seperate df for directors and writers\n",
    "#Directors\n",
    "directors_df = df_imdb_person[df_imdb_person['primary_profession'].str.contains('director', case=False, na=False)]\n",
    "#Writers\n",
    "writers_df = df_imdb_person[df_imdb_person['primary_profession'].str.contains('writer', case=False, na=False)]"
   ]
  },
  {
   "cell_type": "code",
   "execution_count": 83,
   "id": "0e131295",
   "metadata": {},
   "outputs": [
    {
     "name": "stderr",
     "output_type": "stream",
     "text": [
      "C:\\Users\\USER\\AppData\\Local\\Temp\\ipykernel_14436\\2185598140.py:3: SettingWithCopyWarning: \n",
      "A value is trying to be set on a copy of a slice from a DataFrame\n",
      "\n",
      "See the caveats in the documentation: https://pandas.pydata.org/pandas-docs/stable/user_guide/indexing.html#returning-a-view-versus-a-copy\n",
      "  directors_df.rename(columns={'primary_name': 'director_name'}, inplace=True)\n",
      "C:\\Users\\USER\\AppData\\Local\\Temp\\ipykernel_14436\\2185598140.py:5: SettingWithCopyWarning: \n",
      "A value is trying to be set on a copy of a slice from a DataFrame\n",
      "\n",
      "See the caveats in the documentation: https://pandas.pydata.org/pandas-docs/stable/user_guide/indexing.html#returning-a-view-versus-a-copy\n",
      "  writers_df.rename(columns={'primary_name': 'writer_name'}, inplace=True)\n"
     ]
    }
   ],
   "source": [
    "#To avoid confusion I rename the 'primary_name' column in both datas\n",
    "#Directors\n",
    "directors_df.rename(columns={'primary_name': 'director_name'}, inplace=True)\n",
    "#Writers\n",
    "writers_df.rename(columns={'primary_name': 'writer_name'}, inplace=True)"
   ]
  },
  {
   "cell_type": "code",
   "execution_count": 84,
   "id": "0583372b",
   "metadata": {},
   "outputs": [],
   "source": [
    "#I'll merge the frames back into df_people\n",
    "#Directors\n",
    "df_people = pd.merge(df_people, directors_df[['person_id', 'director_name']], on='person_id', how='left')\n",
    "#Writers\n",
    "df_people = pd.merge(df_people, writers_df[['person_id', 'writer_name']], on='person_id', how='left')"
   ]
  },
  {
   "cell_type": "code",
   "execution_count": 85,
   "id": "627f0ba6",
   "metadata": {},
   "outputs": [],
   "source": [
    "#Finally I''l drop the primary profession column since I don't need it\n",
    "df_people.drop(columns=['primary_profession'], inplace=True)"
   ]
  },
  {
   "cell_type": "code",
   "execution_count": 86,
   "id": "6965f0f4",
   "metadata": {},
   "outputs": [
    {
     "data": {
      "text/html": [
       "<div>\n",
       "<style scoped>\n",
       "    .dataframe tbody tr th:only-of-type {\n",
       "        vertical-align: middle;\n",
       "    }\n",
       "\n",
       "    .dataframe tbody tr th {\n",
       "        vertical-align: top;\n",
       "    }\n",
       "\n",
       "    .dataframe thead th {\n",
       "        text-align: right;\n",
       "    }\n",
       "</style>\n",
       "<table border=\"1\" class=\"dataframe\">\n",
       "  <thead>\n",
       "    <tr style=\"text-align: right;\">\n",
       "      <th></th>\n",
       "      <th>rating</th>\n",
       "      <th>genre</th>\n",
       "      <th>director</th>\n",
       "      <th>writer</th>\n",
       "      <th>person_id</th>\n",
       "      <th>primary_name</th>\n",
       "      <th>director_name</th>\n",
       "      <th>writer_name</th>\n",
       "    </tr>\n",
       "  </thead>\n",
       "  <tbody>\n",
       "    <tr>\n",
       "      <th>0</th>\n",
       "      <td>R</td>\n",
       "      <td>Action and Adventure|Classics|Drama</td>\n",
       "      <td>William Friedkin</td>\n",
       "      <td>Ernest Tidyman</td>\n",
       "      <td>nm0061671</td>\n",
       "      <td>Mary Ellen Bauder</td>\n",
       "      <td>NaN</td>\n",
       "      <td>NaN</td>\n",
       "    </tr>\n",
       "    <tr>\n",
       "      <th>1</th>\n",
       "      <td>R</td>\n",
       "      <td>Drama|Science Fiction and Fantasy</td>\n",
       "      <td>David Cronenberg</td>\n",
       "      <td>David Cronenberg|Don DeLillo</td>\n",
       "      <td>nm0061865</td>\n",
       "      <td>Joseph Bauer</td>\n",
       "      <td>NaN</td>\n",
       "      <td>NaN</td>\n",
       "    </tr>\n",
       "    <tr>\n",
       "      <th>2</th>\n",
       "      <td>R</td>\n",
       "      <td>Drama|Musical and Performing Arts</td>\n",
       "      <td>Allison Anders</td>\n",
       "      <td>Allison Anders</td>\n",
       "      <td>nm0062070</td>\n",
       "      <td>Bruce Baum</td>\n",
       "      <td>NaN</td>\n",
       "      <td>Bruce Baum</td>\n",
       "    </tr>\n",
       "  </tbody>\n",
       "</table>\n",
       "</div>"
      ],
      "text/plain": [
       "  rating                                genre          director  \\\n",
       "0      R  Action and Adventure|Classics|Drama  William Friedkin   \n",
       "1      R    Drama|Science Fiction and Fantasy  David Cronenberg   \n",
       "2      R    Drama|Musical and Performing Arts    Allison Anders   \n",
       "\n",
       "                         writer  person_id       primary_name director_name  \\\n",
       "0                Ernest Tidyman  nm0061671  Mary Ellen Bauder           NaN   \n",
       "1  David Cronenberg|Don DeLillo  nm0061865       Joseph Bauer           NaN   \n",
       "2                Allison Anders  nm0062070         Bruce Baum           NaN   \n",
       "\n",
       "  writer_name  \n",
       "0         NaN  \n",
       "1         NaN  \n",
       "2  Bruce Baum  "
      ]
     },
     "execution_count": 86,
     "metadata": {},
     "output_type": "execute_result"
    }
   ],
   "source": [
    "#looking at the first rows of data\n",
    "df_people.head(3)"
   ]
  },
  {
   "cell_type": "markdown",
   "id": "3be94e95",
   "metadata": {},
   "source": [
    "Great! Things are starting to match up"
   ]
  },
  {
   "cell_type": "code",
   "execution_count": 87,
   "id": "1f91fe12",
   "metadata": {},
   "outputs": [],
   "source": [
    "#We only need one writer and director column, so we'll drop the rest\n",
    "df_people.drop(columns=['director','writer'], inplace=True)"
   ]
  },
  {
   "cell_type": "code",
   "execution_count": 88,
   "id": "9f5ac576",
   "metadata": {},
   "outputs": [
    {
     "data": {
      "text/html": [
       "<div>\n",
       "<style scoped>\n",
       "    .dataframe tbody tr th:only-of-type {\n",
       "        vertical-align: middle;\n",
       "    }\n",
       "\n",
       "    .dataframe tbody tr th {\n",
       "        vertical-align: top;\n",
       "    }\n",
       "\n",
       "    .dataframe thead th {\n",
       "        text-align: right;\n",
       "    }\n",
       "</style>\n",
       "<table border=\"1\" class=\"dataframe\">\n",
       "  <thead>\n",
       "    <tr style=\"text-align: right;\">\n",
       "      <th></th>\n",
       "      <th>rating</th>\n",
       "      <th>genre</th>\n",
       "      <th>person_id</th>\n",
       "      <th>primary_name</th>\n",
       "      <th>director_name</th>\n",
       "      <th>writer_name</th>\n",
       "    </tr>\n",
       "  </thead>\n",
       "  <tbody>\n",
       "    <tr>\n",
       "      <th>0</th>\n",
       "      <td>R</td>\n",
       "      <td>Action and Adventure|Classics|Drama</td>\n",
       "      <td>nm0061671</td>\n",
       "      <td>Mary Ellen Bauder</td>\n",
       "      <td>NaN</td>\n",
       "      <td>NaN</td>\n",
       "    </tr>\n",
       "    <tr>\n",
       "      <th>1</th>\n",
       "      <td>R</td>\n",
       "      <td>Drama|Science Fiction and Fantasy</td>\n",
       "      <td>nm0061865</td>\n",
       "      <td>Joseph Bauer</td>\n",
       "      <td>NaN</td>\n",
       "      <td>NaN</td>\n",
       "    </tr>\n",
       "    <tr>\n",
       "      <th>2</th>\n",
       "      <td>R</td>\n",
       "      <td>Drama|Musical and Performing Arts</td>\n",
       "      <td>nm0062070</td>\n",
       "      <td>Bruce Baum</td>\n",
       "      <td>NaN</td>\n",
       "      <td>Bruce Baum</td>\n",
       "    </tr>\n",
       "  </tbody>\n",
       "</table>\n",
       "</div>"
      ],
      "text/plain": [
       "  rating                                genre  person_id       primary_name  \\\n",
       "0      R  Action and Adventure|Classics|Drama  nm0061671  Mary Ellen Bauder   \n",
       "1      R    Drama|Science Fiction and Fantasy  nm0061865       Joseph Bauer   \n",
       "2      R    Drama|Musical and Performing Arts  nm0062070         Bruce Baum   \n",
       "\n",
       "  director_name writer_name  \n",
       "0           NaN         NaN  \n",
       "1           NaN         NaN  \n",
       "2           NaN  Bruce Baum  "
      ]
     },
     "execution_count": 88,
     "metadata": {},
     "output_type": "execute_result"
    }
   ],
   "source": [
    "df_people.head(3)"
   ]
  },
  {
   "cell_type": "code",
   "execution_count": 89,
   "id": "69a1a235",
   "metadata": {},
   "outputs": [],
   "source": [
    "#We remove the columns without either the director nor the writer name\n",
    "df_people.dropna(subset=['director_name', 'writer_name'], how='all', inplace=True)"
   ]
  },
  {
   "cell_type": "code",
   "execution_count": 90,
   "id": "d4d7be56",
   "metadata": {},
   "outputs": [
    {
     "data": {
      "text/html": [
       "<div>\n",
       "<style scoped>\n",
       "    .dataframe tbody tr th:only-of-type {\n",
       "        vertical-align: middle;\n",
       "    }\n",
       "\n",
       "    .dataframe tbody tr th {\n",
       "        vertical-align: top;\n",
       "    }\n",
       "\n",
       "    .dataframe thead th {\n",
       "        text-align: right;\n",
       "    }\n",
       "</style>\n",
       "<table border=\"1\" class=\"dataframe\">\n",
       "  <thead>\n",
       "    <tr style=\"text-align: right;\">\n",
       "      <th></th>\n",
       "      <th>rating</th>\n",
       "      <th>genre</th>\n",
       "      <th>person_id</th>\n",
       "      <th>primary_name</th>\n",
       "      <th>director_name</th>\n",
       "      <th>writer_name</th>\n",
       "    </tr>\n",
       "  </thead>\n",
       "  <tbody>\n",
       "    <tr>\n",
       "      <th>2</th>\n",
       "      <td>R</td>\n",
       "      <td>Drama|Musical and Performing Arts</td>\n",
       "      <td>nm0062070</td>\n",
       "      <td>Bruce Baum</td>\n",
       "      <td>NaN</td>\n",
       "      <td>Bruce Baum</td>\n",
       "    </tr>\n",
       "    <tr>\n",
       "      <th>5</th>\n",
       "      <td>PG</td>\n",
       "      <td>Drama|Kids and Family</td>\n",
       "      <td>nm0062879</td>\n",
       "      <td>Ruel S. Bayani</td>\n",
       "      <td>Ruel S. Bayani</td>\n",
       "      <td>NaN</td>\n",
       "    </tr>\n",
       "  </tbody>\n",
       "</table>\n",
       "</div>"
      ],
      "text/plain": [
       "  rating                              genre  person_id    primary_name  \\\n",
       "2      R  Drama|Musical and Performing Arts  nm0062070      Bruce Baum   \n",
       "5     PG              Drama|Kids and Family  nm0062879  Ruel S. Bayani   \n",
       "\n",
       "    director_name writer_name  \n",
       "2             NaN  Bruce Baum  \n",
       "5  Ruel S. Bayani         NaN  "
      ]
     },
     "execution_count": 90,
     "metadata": {},
     "output_type": "execute_result"
    }
   ],
   "source": [
    "df_people.head(2)"
   ]
  },
  {
   "cell_type": "markdown",
   "id": "e033efe4",
   "metadata": {},
   "source": [
    "Finally, we have a list of people, their genre and their rating, so next we will link them to the movies"
   ]
  },
  {
   "cell_type": "markdown",
   "id": "77f9a4d6",
   "metadata": {},
   "source": [
    "Considering we have the person id, all we need is the movie id to access the rest of the data"
   ]
  },
  {
   "cell_type": "code",
   "execution_count": 91,
   "id": "e352da79",
   "metadata": {},
   "outputs": [
    {
     "data": {
      "text/html": [
       "<div>\n",
       "<style scoped>\n",
       "    .dataframe tbody tr th:only-of-type {\n",
       "        vertical-align: middle;\n",
       "    }\n",
       "\n",
       "    .dataframe tbody tr th {\n",
       "        vertical-align: top;\n",
       "    }\n",
       "\n",
       "    .dataframe thead th {\n",
       "        text-align: right;\n",
       "    }\n",
       "</style>\n",
       "<table border=\"1\" class=\"dataframe\">\n",
       "  <thead>\n",
       "    <tr style=\"text-align: right;\">\n",
       "      <th></th>\n",
       "      <th>person_id</th>\n",
       "      <th>movie_id</th>\n",
       "    </tr>\n",
       "  </thead>\n",
       "  <tbody>\n",
       "    <tr>\n",
       "      <th>0</th>\n",
       "      <td>nm0061671</td>\n",
       "      <td>tt0837562</td>\n",
       "    </tr>\n",
       "  </tbody>\n",
       "</table>\n",
       "</div>"
      ],
      "text/plain": [
       "   person_id   movie_id\n",
       "0  nm0061671  tt0837562"
      ]
     },
     "execution_count": 91,
     "metadata": {},
     "output_type": "execute_result"
    }
   ],
   "source": [
    "df_imdb_fame.head(1)"
   ]
  },
  {
   "cell_type": "markdown",
   "id": "aef94547",
   "metadata": {},
   "source": [
    "We will now merge the two into one to give us access to the other tables"
   ]
  },
  {
   "cell_type": "code",
   "execution_count": 92,
   "id": "407601ff",
   "metadata": {},
   "outputs": [],
   "source": [
    "#merging the ids to the people\n",
    "df_people = df_people.merge(df_imdb_fame, on='person_id', how='inner')"
   ]
  },
  {
   "cell_type": "code",
   "execution_count": 93,
   "id": "671b472c",
   "metadata": {},
   "outputs": [
    {
     "data": {
      "text/html": [
       "<div>\n",
       "<style scoped>\n",
       "    .dataframe tbody tr th:only-of-type {\n",
       "        vertical-align: middle;\n",
       "    }\n",
       "\n",
       "    .dataframe tbody tr th {\n",
       "        vertical-align: top;\n",
       "    }\n",
       "\n",
       "    .dataframe thead th {\n",
       "        text-align: right;\n",
       "    }\n",
       "</style>\n",
       "<table border=\"1\" class=\"dataframe\">\n",
       "  <thead>\n",
       "    <tr style=\"text-align: right;\">\n",
       "      <th></th>\n",
       "      <th>rating</th>\n",
       "      <th>genre</th>\n",
       "      <th>person_id</th>\n",
       "      <th>primary_name</th>\n",
       "      <th>director_name</th>\n",
       "      <th>writer_name</th>\n",
       "      <th>movie_id</th>\n",
       "    </tr>\n",
       "  </thead>\n",
       "  <tbody>\n",
       "    <tr>\n",
       "      <th>0</th>\n",
       "      <td>R</td>\n",
       "      <td>Drama|Musical and Performing Arts</td>\n",
       "      <td>nm0062070</td>\n",
       "      <td>Bruce Baum</td>\n",
       "      <td>NaN</td>\n",
       "      <td>Bruce Baum</td>\n",
       "      <td>tt1470654</td>\n",
       "    </tr>\n",
       "    <tr>\n",
       "      <th>1</th>\n",
       "      <td>R</td>\n",
       "      <td>Drama|Musical and Performing Arts</td>\n",
       "      <td>nm0062070</td>\n",
       "      <td>Bruce Baum</td>\n",
       "      <td>NaN</td>\n",
       "      <td>Bruce Baum</td>\n",
       "      <td>tt0363631</td>\n",
       "    </tr>\n",
       "  </tbody>\n",
       "</table>\n",
       "</div>"
      ],
      "text/plain": [
       "  rating                              genre  person_id primary_name  \\\n",
       "0      R  Drama|Musical and Performing Arts  nm0062070   Bruce Baum   \n",
       "1      R  Drama|Musical and Performing Arts  nm0062070   Bruce Baum   \n",
       "\n",
       "  director_name writer_name   movie_id  \n",
       "0           NaN  Bruce Baum  tt1470654  \n",
       "1           NaN  Bruce Baum  tt0363631  "
      ]
     },
     "execution_count": 93,
     "metadata": {},
     "output_type": "execute_result"
    }
   ],
   "source": [
    "df_people.head(2)"
   ]
  },
  {
   "cell_type": "markdown",
   "id": "86e891b5",
   "metadata": {},
   "source": [
    "Great now we have linked the movie id to the person. The next is to combine it with df_imdb_ratings"
   ]
  },
  {
   "cell_type": "code",
   "execution_count": 94,
   "id": "992b2f45",
   "metadata": {},
   "outputs": [],
   "source": [
    "df_people = df_people.merge(df_imdb_ratings, on='movie_id', how='inner')"
   ]
  },
  {
   "cell_type": "code",
   "execution_count": 95,
   "id": "a5ea5fc9",
   "metadata": {},
   "outputs": [
    {
     "data": {
      "text/html": [
       "<div>\n",
       "<style scoped>\n",
       "    .dataframe tbody tr th:only-of-type {\n",
       "        vertical-align: middle;\n",
       "    }\n",
       "\n",
       "    .dataframe tbody tr th {\n",
       "        vertical-align: top;\n",
       "    }\n",
       "\n",
       "    .dataframe thead th {\n",
       "        text-align: right;\n",
       "    }\n",
       "</style>\n",
       "<table border=\"1\" class=\"dataframe\">\n",
       "  <thead>\n",
       "    <tr style=\"text-align: right;\">\n",
       "      <th></th>\n",
       "      <th>rating</th>\n",
       "      <th>genre</th>\n",
       "      <th>person_id</th>\n",
       "      <th>primary_name</th>\n",
       "      <th>director_name</th>\n",
       "      <th>writer_name</th>\n",
       "      <th>movie_id</th>\n",
       "      <th>averagerating</th>\n",
       "      <th>numvotes</th>\n",
       "    </tr>\n",
       "  </thead>\n",
       "  <tbody>\n",
       "    <tr>\n",
       "      <th>0</th>\n",
       "      <td>PG</td>\n",
       "      <td>Drama|Kids and Family</td>\n",
       "      <td>nm0062879</td>\n",
       "      <td>Ruel S. Bayani</td>\n",
       "      <td>Ruel S. Bayani</td>\n",
       "      <td>NaN</td>\n",
       "      <td>tt2590280</td>\n",
       "      <td>5.8</td>\n",
       "      <td>158</td>\n",
       "    </tr>\n",
       "    <tr>\n",
       "      <th>1</th>\n",
       "      <td>PG</td>\n",
       "      <td>Drama|Kids and Family</td>\n",
       "      <td>nm0062879</td>\n",
       "      <td>Ruel S. Bayani</td>\n",
       "      <td>Ruel S. Bayani</td>\n",
       "      <td>NaN</td>\n",
       "      <td>tt2057445</td>\n",
       "      <td>6.4</td>\n",
       "      <td>256</td>\n",
       "    </tr>\n",
       "  </tbody>\n",
       "</table>\n",
       "</div>"
      ],
      "text/plain": [
       "  rating                  genre  person_id    primary_name   director_name  \\\n",
       "0     PG  Drama|Kids and Family  nm0062879  Ruel S. Bayani  Ruel S. Bayani   \n",
       "1     PG  Drama|Kids and Family  nm0062879  Ruel S. Bayani  Ruel S. Bayani   \n",
       "\n",
       "  writer_name   movie_id  averagerating  numvotes  \n",
       "0         NaN  tt2590280            5.8       158  \n",
       "1         NaN  tt2057445            6.4       256  "
      ]
     },
     "execution_count": 95,
     "metadata": {},
     "output_type": "execute_result"
    }
   ],
   "source": [
    "df_people.head(2)"
   ]
  },
  {
   "cell_type": "markdown",
   "id": "18a80634",
   "metadata": {},
   "source": [
    "### Full Movie Information"
   ]
  },
  {
   "cell_type": "markdown",
   "id": "cc90b803",
   "metadata": {},
   "source": [
    "So I have gathered all the data I need"
   ]
  },
  {
   "cell_type": "code",
   "execution_count": 96,
   "id": "89900787",
   "metadata": {},
   "outputs": [
    {
     "name": "stdout",
     "output_type": "stream",
     "text": [
      "<class 'pandas.core.frame.DataFrame'>\n",
      "Int64Index: 112282 entries, 0 to 112281\n",
      "Data columns (total 13 columns):\n",
      " #   Column             Non-Null Count   Dtype  \n",
      "---  ------             --------------   -----  \n",
      " 0   movie_id           112282 non-null  object \n",
      " 1   primary_title      112282 non-null  object \n",
      " 2   genres             112282 non-null  object \n",
      " 3   title              198 non-null     object \n",
      " 4   studio             198 non-null     object \n",
      " 5   year               198 non-null     float64\n",
      " 6   release_date       198 non-null     object \n",
      " 7   production_budget  198 non-null     float64\n",
      " 8   domestic_gross     198 non-null     float64\n",
      " 9   worldwide_gross    198 non-null     float64\n",
      " 10  popularity         198 non-null     float64\n",
      " 11  vote_average       198 non-null     float64\n",
      " 12  vote_count         198 non-null     float64\n",
      "dtypes: float64(7), object(6)\n",
      "memory usage: 12.0+ MB\n"
     ]
    }
   ],
   "source": [
    "#Taking a look at df_movie info\n",
    "df_movie.info()"
   ]
  },
  {
   "cell_type": "markdown",
   "id": "0b510339",
   "metadata": {},
   "source": [
    "There are some null values I missed out but the data let me clean that"
   ]
  },
  {
   "cell_type": "code",
   "execution_count": 97,
   "id": "04ca0502",
   "metadata": {},
   "outputs": [],
   "source": [
    "#dropping the null values\n",
    "df_movie = df_movie.dropna()"
   ]
  },
  {
   "cell_type": "code",
   "execution_count": 98,
   "id": "13211241",
   "metadata": {},
   "outputs": [
    {
     "name": "stdout",
     "output_type": "stream",
     "text": [
      "<class 'pandas.core.frame.DataFrame'>\n",
      "Int64Index: 198 entries, 266 to 109193\n",
      "Data columns (total 13 columns):\n",
      " #   Column             Non-Null Count  Dtype  \n",
      "---  ------             --------------  -----  \n",
      " 0   movie_id           198 non-null    object \n",
      " 1   primary_title      198 non-null    object \n",
      " 2   genres             198 non-null    object \n",
      " 3   title              198 non-null    object \n",
      " 4   studio             198 non-null    object \n",
      " 5   year               198 non-null    float64\n",
      " 6   release_date       198 non-null    object \n",
      " 7   production_budget  198 non-null    float64\n",
      " 8   domestic_gross     198 non-null    float64\n",
      " 9   worldwide_gross    198 non-null    float64\n",
      " 10  popularity         198 non-null    float64\n",
      " 11  vote_average       198 non-null    float64\n",
      " 12  vote_count         198 non-null    float64\n",
      "dtypes: float64(7), object(6)\n",
      "memory usage: 21.7+ KB\n"
     ]
    }
   ],
   "source": [
    "#A final look\n",
    "df_movie.info()"
   ]
  },
  {
   "cell_type": "code",
   "execution_count": 99,
   "id": "56354210",
   "metadata": {},
   "outputs": [
    {
     "name": "stdout",
     "output_type": "stream",
     "text": [
      "<class 'pandas.core.frame.DataFrame'>\n",
      "Int64Index: 382 entries, 0 to 381\n",
      "Data columns (total 9 columns):\n",
      " #   Column         Non-Null Count  Dtype  \n",
      "---  ------         --------------  -----  \n",
      " 0   rating         382 non-null    object \n",
      " 1   genre          382 non-null    object \n",
      " 2   person_id      382 non-null    object \n",
      " 3   primary_name   382 non-null    object \n",
      " 4   director_name  268 non-null    object \n",
      " 5   writer_name    245 non-null    object \n",
      " 6   movie_id       382 non-null    object \n",
      " 7   averagerating  382 non-null    float64\n",
      " 8   numvotes       382 non-null    int64  \n",
      "dtypes: float64(1), int64(1), object(7)\n",
      "memory usage: 29.8+ KB\n"
     ]
    }
   ],
   "source": [
    "#Taking a look at df_people info\n",
    "df_people.info()"
   ]
  },
  {
   "cell_type": "code",
   "execution_count": 100,
   "id": "071a1724",
   "metadata": {},
   "outputs": [
    {
     "name": "stdout",
     "output_type": "stream",
     "text": [
      "<class 'pandas.core.frame.DataFrame'>\n",
      "Int64Index: 857 entries, 0 to 856\n",
      "Data columns (total 9 columns):\n",
      " #   Column             Non-Null Count  Dtype  \n",
      "---  ------             --------------  -----  \n",
      " 0   title              857 non-null    object \n",
      " 1   studio             857 non-null    object \n",
      " 2   year               857 non-null    int64  \n",
      " 3   id                 857 non-null    int64  \n",
      " 4   release_date       857 non-null    object \n",
      " 5   movie              857 non-null    object \n",
      " 6   production_budget  857 non-null    float64\n",
      " 7   domestic_gross     857 non-null    float64\n",
      " 8   worldwide_gross    857 non-null    float64\n",
      "dtypes: float64(3), int64(2), object(4)\n",
      "memory usage: 67.0+ KB\n"
     ]
    }
   ],
   "source": [
    "#Taking a look at df_finance info\n",
    "df_finance.info()"
   ]
  },
  {
   "cell_type": "markdown",
   "id": "716963df",
   "metadata": {},
   "source": [
    "We have all the data we need. That is the data with the `Financial relations`, the `professions involved` and the `movie stats`"
   ]
  },
  {
   "cell_type": "markdown",
   "id": "6a73be24",
   "metadata": {},
   "source": [
    "### Genre vs Popularity"
   ]
  },
  {
   "cell_type": "code",
   "execution_count": 101,
   "id": "562673ff",
   "metadata": {},
   "outputs": [
    {
     "data": {
      "text/plain": [
       "266       Comedy,Drama,Romance\n",
       "710                      Drama\n",
       "949                Documentary\n",
       "950                Documentary\n",
       "2011                  Thriller\n",
       "                  ...         \n",
       "104545           Action,Comedy\n",
       "106031          Comedy,Romance\n",
       "106032          Comedy,Romance\n",
       "109192                   Drama\n",
       "109193                   Drama\n",
       "Name: genres, Length: 198, dtype: object"
      ]
     },
     "execution_count": 101,
     "metadata": {},
     "output_type": "execute_result"
    }
   ],
   "source": [
    "#looking at the genre format\n",
    "df_movie['genres']"
   ]
  },
  {
   "cell_type": "code",
   "execution_count": 102,
   "id": "a2cc29bb",
   "metadata": {},
   "outputs": [],
   "source": [
    "#I'll start by splitting the genre to get a manageable format\n",
    "df_movie['genres'] = df_movie['genres'].str.split(',')"
   ]
  },
  {
   "cell_type": "markdown",
   "id": "fbc7e5c3",
   "metadata": {},
   "source": [
    "I'll create a dictionary with the key as genre and the popularity as values"
   ]
  },
  {
   "cell_type": "code",
   "execution_count": 103,
   "id": "42c98724",
   "metadata": {},
   "outputs": [],
   "source": [
    "#Creating an empty dictionary to place my iterations\n",
    "genre_popularity = {}\n",
    "#Iterating through each row to feed in the popularity for each genre\n",
    "for index, row in df_movie.iterrows():\n",
    "    genres = row['genres']\n",
    "    popularity = row['popularity']\n",
    "    for genre in genres:\n",
    "        if genre in genre_popularity:\n",
    "            genre_popularity[genre].append(popularity)\n",
    "        else:\n",
    "            genre_popularity[genre] = [popularity]"
   ]
  },
  {
   "cell_type": "code",
   "execution_count": 104,
   "id": "03a99ff2",
   "metadata": {},
   "outputs": [
    {
     "data": {
      "text/plain": [
       "dict"
      ]
     },
     "execution_count": 104,
     "metadata": {},
     "output_type": "execute_result"
    }
   ],
   "source": [
    "#Confirm that the dictionary is created\n",
    "type(genre_popularity)"
   ]
  },
  {
   "cell_type": "code",
   "execution_count": 105,
   "id": "980e3b3e",
   "metadata": {},
   "outputs": [],
   "source": [
    "#Calculating the average popularity for each genre\n",
    "average_popularity = {genre: sum(popularity) / len(popularity) for genre, popularity in genre_popularity.items()}"
   ]
  },
  {
   "cell_type": "code",
   "execution_count": 106,
   "id": "a9f34e30",
   "metadata": {},
   "outputs": [],
   "source": [
    "#Convert the dictionary to a data frame \n",
    "genre_popularity_df = pd.DataFrame(list(average_popularity.items()), columns=['Genre', 'Average Popularity'])"
   ]
  },
  {
   "cell_type": "markdown",
   "id": "f70bdb0b",
   "metadata": {},
   "source": [
    "### Directors and Writers"
   ]
  },
  {
   "cell_type": "markdown",
   "id": "44e7191f",
   "metadata": {},
   "source": [
    "Next we want to see the writers and directors that create movies with high ratings"
   ]
  },
  {
   "cell_type": "code",
   "execution_count": 107,
   "id": "1b3446c0",
   "metadata": {},
   "outputs": [
    {
     "data": {
      "text/html": [
       "<div>\n",
       "<style scoped>\n",
       "    .dataframe tbody tr th:only-of-type {\n",
       "        vertical-align: middle;\n",
       "    }\n",
       "\n",
       "    .dataframe tbody tr th {\n",
       "        vertical-align: top;\n",
       "    }\n",
       "\n",
       "    .dataframe thead th {\n",
       "        text-align: right;\n",
       "    }\n",
       "</style>\n",
       "<table border=\"1\" class=\"dataframe\">\n",
       "  <thead>\n",
       "    <tr style=\"text-align: right;\">\n",
       "      <th></th>\n",
       "      <th>rating</th>\n",
       "      <th>genre</th>\n",
       "      <th>person_id</th>\n",
       "      <th>primary_name</th>\n",
       "      <th>director_name</th>\n",
       "      <th>writer_name</th>\n",
       "      <th>movie_id</th>\n",
       "      <th>averagerating</th>\n",
       "      <th>numvotes</th>\n",
       "    </tr>\n",
       "  </thead>\n",
       "  <tbody>\n",
       "    <tr>\n",
       "      <th>0</th>\n",
       "      <td>PG</td>\n",
       "      <td>Drama|Kids and Family</td>\n",
       "      <td>nm0062879</td>\n",
       "      <td>Ruel S. Bayani</td>\n",
       "      <td>Ruel S. Bayani</td>\n",
       "      <td>NaN</td>\n",
       "      <td>tt2590280</td>\n",
       "      <td>5.8</td>\n",
       "      <td>158</td>\n",
       "    </tr>\n",
       "  </tbody>\n",
       "</table>\n",
       "</div>"
      ],
      "text/plain": [
       "  rating                  genre  person_id    primary_name   director_name  \\\n",
       "0     PG  Drama|Kids and Family  nm0062879  Ruel S. Bayani  Ruel S. Bayani   \n",
       "\n",
       "  writer_name   movie_id  averagerating  numvotes  \n",
       "0         NaN  tt2590280            5.8       158  "
      ]
     },
     "execution_count": 107,
     "metadata": {},
     "output_type": "execute_result"
    }
   ],
   "source": [
    "#looking at the first row of data\n",
    "df_people.head(1)"
   ]
  },
  {
   "cell_type": "markdown",
   "id": "d7dd4c11",
   "metadata": {},
   "source": [
    "First I'll organize the data according to the rating in descending order"
   ]
  },
  {
   "cell_type": "code",
   "execution_count": 108,
   "id": "c40d20ce",
   "metadata": {},
   "outputs": [],
   "source": [
    "#sorting the data in a descending order\n",
    "df_people = df_people.sort_values(by='averagerating', ascending=False)"
   ]
  },
  {
   "cell_type": "code",
   "execution_count": 109,
   "id": "e57ebb19",
   "metadata": {
    "scrolled": true
   },
   "outputs": [
    {
     "data": {
      "text/html": [
       "<div>\n",
       "<style scoped>\n",
       "    .dataframe tbody tr th:only-of-type {\n",
       "        vertical-align: middle;\n",
       "    }\n",
       "\n",
       "    .dataframe tbody tr th {\n",
       "        vertical-align: top;\n",
       "    }\n",
       "\n",
       "    .dataframe thead th {\n",
       "        text-align: right;\n",
       "    }\n",
       "</style>\n",
       "<table border=\"1\" class=\"dataframe\">\n",
       "  <thead>\n",
       "    <tr style=\"text-align: right;\">\n",
       "      <th></th>\n",
       "      <th>rating</th>\n",
       "      <th>genre</th>\n",
       "      <th>person_id</th>\n",
       "      <th>primary_name</th>\n",
       "      <th>director_name</th>\n",
       "      <th>writer_name</th>\n",
       "      <th>movie_id</th>\n",
       "      <th>averagerating</th>\n",
       "      <th>numvotes</th>\n",
       "    </tr>\n",
       "  </thead>\n",
       "  <tbody>\n",
       "    <tr>\n",
       "      <th>80</th>\n",
       "      <td>R</td>\n",
       "      <td>Horror</td>\n",
       "      <td>nm0188266</td>\n",
       "      <td>Anthony Crivello</td>\n",
       "      <td>NaN</td>\n",
       "      <td>Anthony Crivello</td>\n",
       "      <td>tt3814566</td>\n",
       "      <td>9.1</td>\n",
       "      <td>30</td>\n",
       "    </tr>\n",
       "    <tr>\n",
       "      <th>201</th>\n",
       "      <td>R</td>\n",
       "      <td>Horror|Kids and Family|Mystery and Suspense|Sc...</td>\n",
       "      <td>nm0565596</td>\n",
       "      <td>Cady McClain</td>\n",
       "      <td>Cady McClain</td>\n",
       "      <td>NaN</td>\n",
       "      <td>tt5461616</td>\n",
       "      <td>8.8</td>\n",
       "      <td>16</td>\n",
       "    </tr>\n",
       "    <tr>\n",
       "      <th>24</th>\n",
       "      <td>NR</td>\n",
       "      <td>Drama</td>\n",
       "      <td>nm0105914</td>\n",
       "      <td>Sharon Brauner</td>\n",
       "      <td>Sharon Brauner</td>\n",
       "      <td>NaN</td>\n",
       "      <td>tt5495122</td>\n",
       "      <td>8.8</td>\n",
       "      <td>406</td>\n",
       "    </tr>\n",
       "  </tbody>\n",
       "</table>\n",
       "</div>"
      ],
      "text/plain": [
       "    rating                                              genre  person_id  \\\n",
       "80       R                                             Horror  nm0188266   \n",
       "201      R  Horror|Kids and Family|Mystery and Suspense|Sc...  nm0565596   \n",
       "24      NR                                              Drama  nm0105914   \n",
       "\n",
       "         primary_name   director_name       writer_name   movie_id  \\\n",
       "80   Anthony Crivello             NaN  Anthony Crivello  tt3814566   \n",
       "201      Cady McClain    Cady McClain               NaN  tt5461616   \n",
       "24     Sharon Brauner  Sharon Brauner               NaN  tt5495122   \n",
       "\n",
       "     averagerating  numvotes  \n",
       "80             9.1        30  \n",
       "201            8.8        16  \n",
       "24             8.8       406  "
      ]
     },
     "execution_count": 109,
     "metadata": {},
     "output_type": "execute_result"
    }
   ],
   "source": [
    "#looking at the first rows of data\n",
    "df_people.head(3)"
   ]
  },
  {
   "cell_type": "markdown",
   "id": "93138477",
   "metadata": {},
   "source": [
    "Now that I have the data with the statistics from the highest average rating to the lowest. I only need to look at the the names of the top 20 people since I have an interest in the high performance rates"
   ]
  },
  {
   "cell_type": "markdown",
   "id": "386a60c4",
   "metadata": {},
   "source": [
    "That means that we will work only with the first 20 directors and writers"
   ]
  },
  {
   "cell_type": "code",
   "execution_count": 110,
   "id": "eca68b74",
   "metadata": {},
   "outputs": [],
   "source": [
    "#Creating a new data frame with only the top 20 professional information\n",
    "top_20_people = df_people.head(20)"
   ]
  },
  {
   "cell_type": "code",
   "execution_count": 111,
   "id": "49b8f14a",
   "metadata": {},
   "outputs": [
    {
     "data": {
      "text/plain": [
       "(20, 9)"
      ]
     },
     "execution_count": 111,
     "metadata": {},
     "output_type": "execute_result"
    }
   ],
   "source": [
    "#Confirming the shape of the data \n",
    "top_20_people.shape"
   ]
  },
  {
   "cell_type": "code",
   "execution_count": 112,
   "id": "9ea4e576",
   "metadata": {},
   "outputs": [
    {
     "name": "stdout",
     "output_type": "stream",
     "text": [
      "<class 'pandas.core.frame.DataFrame'>\n",
      "Int64Index: 20 entries, 80 to 187\n",
      "Data columns (total 9 columns):\n",
      " #   Column         Non-Null Count  Dtype  \n",
      "---  ------         --------------  -----  \n",
      " 0   rating         20 non-null     object \n",
      " 1   genre          20 non-null     object \n",
      " 2   person_id      20 non-null     object \n",
      " 3   primary_name   20 non-null     object \n",
      " 4   director_name  15 non-null     object \n",
      " 5   writer_name    13 non-null     object \n",
      " 6   movie_id       20 non-null     object \n",
      " 7   averagerating  20 non-null     float64\n",
      " 8   numvotes       20 non-null     int64  \n",
      "dtypes: float64(1), int64(1), object(7)\n",
      "memory usage: 1.6+ KB\n"
     ]
    }
   ],
   "source": [
    "#confirming the statistics\n",
    "top_20_people.info()"
   ]
  },
  {
   "cell_type": "markdown",
   "id": "bfab6a9f",
   "metadata": {},
   "source": [
    "Based on the readings in the data frame directors are performing better than writers in movie involvement. I want to visualize the data and see if there is any relation. "
   ]
  },
  {
   "cell_type": "markdown",
   "id": "3e2c85ce",
   "metadata": {},
   "source": [
    "That brings us to our final part which is the data visualization"
   ]
  },
  {
   "cell_type": "markdown",
   "id": "e1dc7c4b",
   "metadata": {},
   "source": [
    "# Data Visualization"
   ]
  },
  {
   "cell_type": "markdown",
   "id": "d56b032b",
   "metadata": {},
   "source": [
    "## Financial Data"
   ]
  },
  {
   "cell_type": "markdown",
   "id": "5e2a13ae",
   "metadata": {},
   "source": [
    "#### Production Budget vs Worldwide Gross"
   ]
  },
  {
   "cell_type": "markdown",
   "id": "a5b35078",
   "metadata": {},
   "source": [
    "We will start by looking at the production budget and comparing it to the worldwide gross"
   ]
  },
  {
   "cell_type": "code",
   "execution_count": 113,
   "id": "1ea02ff3",
   "metadata": {},
   "outputs": [
    {
     "data": {
      "image/png": "[encoded data removed]",
      "text/plain": [
       "<Figure size 1000x600 with 1 Axes>"
      ]
     },
     "metadata": {},
     "output_type": "display_data"
    }
   ],
   "source": [
    "#I will extract the production budget and worldwide gross\n",
    "production_budget = df_finance['production_budget']\n",
    "worldwide_gross = df_finance['worldwide_gross']\n",
    "\n",
    "#I will create a scatterplot to represent the data\n",
    "plt.figure(figsize=(10, 6))\n",
    "plt.scatter(production_budget, worldwide_gross, alpha=0.5, color='green')\n",
    "plt.title('Production Budget vs Worldwide Gross')\n",
    "plt.xlabel('Production Budget')\n",
    "plt.ylabel('Worldwide Gross')\n",
    "plt.grid(True)\n",
    "plt.show()"
   ]
  },
  {
   "cell_type": "markdown",
   "id": "87554cc3",
   "metadata": {},
   "source": [
    "##### Interpretation\n",
    "The scatter plot shows a moderate positive correlation with the production budget and worldwide gross. This means that in general, movies with a higher production budget tend to have a higher worldwide gross.\n",
    "There are some movies with high production budgets that tend to have low worldwide grosses and viseverca. However, the the overall trend is production budgets are more likely to be successful."
   ]
  },
  {
   "cell_type": "markdown",
   "id": "36f362cd",
   "metadata": {},
   "source": [
    "#### Top 20 Movies with their highest Production Budget and their Scaled Worldwide Gross "
   ]
  },
  {
   "cell_type": "markdown",
   "id": "c1942d55",
   "metadata": {},
   "source": [
    "Let's look at the top 20 Movies with the highest production budget and their gross worldwide"
   ]
  },
  {
   "cell_type": "code",
   "execution_count": 114,
   "id": "822b21e2",
   "metadata": {},
   "outputs": [
    {
     "data": {
      "image/png": "[encoded data removed]",
      "text/plain": [
       "<Figure size 1200x800 with 1 Axes>"
      ]
     },
     "metadata": {},
     "output_type": "display_data"
    }
   ],
   "source": [
    "#I'll sort the data in a descending order\n",
    "df_finance_sorted = df_finance.sort_values(by='production_budget', ascending=False)\n",
    "\n",
    "#I'll select the top 20 highest values\n",
    "top_20 = df_finance_sorted.head(20)\n",
    "\n",
    "#I'll create a table\n",
    "titles = top_20['title']\n",
    "production = top_20['production_budget']\n",
    "worldwide = top_20['worldwide_gross']\n",
    "\n",
    "#I'll scale the worldwide gross to meet with the production budget\n",
    "scaled_gross = worldwide / worldwide.max() * production_budget.max()\n",
    "\n",
    "#Then create an array for the x-axis \n",
    "x = np.arange(len(titles))\n",
    "\n",
    "#Create a width for the bars\n",
    "bar = 0.4\n",
    "\n",
    "#Create a bar chart\n",
    "plt.figure(figsize=(12, 8))\n",
    "plt.barh(x - bar/2, production, bar, label='Production Budget', color='skyblue')\n",
    "plt.barh(x + bar/2, scaled_gross, bar, label='Worldwide Gross', color='orange')\n",
    "plt.xlabel('Money')\n",
    "plt.title('Top 20 Movies with their highest Production Budget and their Scaled Worldwide Gross')\n",
    "plt.yticks(x, titles)\n",
    "plt.legend(loc='lower right')\n",
    "plt.gca().invert_yaxis()\n",
    "plt.show()"
   ]
  },
  {
   "cell_type": "markdown",
   "id": "6c94981e",
   "metadata": {},
   "source": [
    "##### Interpretation"
   ]
  },
  {
   "cell_type": "markdown",
   "id": "2ab89179",
   "metadata": {},
   "source": [
    "From this bar chart we can see that the top 20 movies with a high production budget have all been successful. The majority of the movies have scaled worldwide grosses of over a billion dollars. This suggests that a high production budget is a good predictor of success.\n",
    "Though the production budget according to the comparison reveals it is not as proportionate and therefore it is possible to make losses with a high production budget like for example Black Hat"
   ]
  },
  {
   "cell_type": "markdown",
   "id": "b61668a1",
   "metadata": {},
   "source": [
    "#### Worldwide V Domestic Gross"
   ]
  },
  {
   "cell_type": "code",
   "execution_count": 115,
   "id": "82251b80",
   "metadata": {
    "scrolled": true
   },
   "outputs": [
    {
     "data": {
      "image/png": "[encoded data removed]",
      "text/plain": [
       "<Figure size 1000x600 with 1 Axes>"
      ]
     },
     "metadata": {},
     "output_type": "display_data"
    }
   ],
   "source": [
    "#I will extract the domestic and worldwide gross\n",
    "domestic_gross = df_finance['domestic_gross']\n",
    "worldwide_gross = df_finance['worldwide_gross']\n",
    "\n",
    "#I will create a scatterplot to represent the data\n",
    "plt.figure(figsize=(10, 6))\n",
    "plt.scatter(domestic_gross, worldwide_gross, alpha=0.5, color='red')\n",
    "plt.title('Domestic Gross vs Worldwide Gross')\n",
    "plt.xlabel('Domestic Gross')\n",
    "plt.ylabel('Worldwide Gross')\n",
    "plt.grid(True)\n",
    "plt.show()"
   ]
  },
  {
   "cell_type": "markdown",
   "id": "d8ed70e0",
   "metadata": {},
   "source": [
    "###### Interpretation"
   ]
  },
  {
   "cell_type": "markdown",
   "id": "31123dff",
   "metadata": {},
   "source": [
    "The scatter plot shows a strong positive correlation between worldwide and domestic gross. This means that normally movies with higher worldwide grosses aslso have higher domestic grosses.\n",
    "There is still some variation but in most cases movies that are successful worldwide are also successful in their home country. "
   ]
  },
  {
   "cell_type": "markdown",
   "id": "dc3f5e0c",
   "metadata": {},
   "source": [
    "##### Profit from the sales"
   ]
  },
  {
   "cell_type": "code",
   "execution_count": 116,
   "id": "b55508e1",
   "metadata": {},
   "outputs": [
    {
     "data": {
      "image/png": "[encoded data removed]",
      "text/plain": [
       "<Figure size 1000x600 with 1 Axes>"
      ]
     },
     "metadata": {},
     "output_type": "display_data"
    }
   ],
   "source": [
    "#I will extract the production budget and financial profits\n",
    "production_budget = df_finance['production_budget']\n",
    "financial_profit = df_finance_profit\n",
    "\n",
    "#I will create a scatterplot to represent the data\n",
    "plt.figure(figsize=(10, 6))\n",
    "plt.scatter(financial_profit, worldwide_gross, alpha=0.5, color='purple')\n",
    "plt.title('Financial Profit vs Production Budget')\n",
    "plt.xlabel('Production Budget')\n",
    "plt.ylabel('Financial Profit')\n",
    "plt.grid(True)\n",
    "plt.show()"
   ]
  },
  {
   "cell_type": "markdown",
   "id": "9b4e335f",
   "metadata": {},
   "source": [
    "###### Interpretation"
   ]
  },
  {
   "cell_type": "markdown",
   "id": "0f5d0b76",
   "metadata": {},
   "source": [
    "There is a strong positive correlation between the financial profit and the production budget. Normally movies with a higher production budget tend to have higher profits.\n",
    "It is important to note that there are other factors that can influence a movie's fiinancial success and a budget is one of them. In summary a large budget actually gives the movie an advantage when it comes to profits."
   ]
  },
  {
   "cell_type": "markdown",
   "id": "22f34e8d",
   "metadata": {},
   "source": [
    "### Genre vs Popularity"
   ]
  },
  {
   "cell_type": "code",
   "execution_count": 117,
   "id": "072c22a6",
   "metadata": {},
   "outputs": [
    {
     "data": {
      "image/png": "[encoded data removed]",
      "text/plain": [
       "<Figure size 1200x800 with 1 Axes>"
      ]
     },
     "metadata": {},
     "output_type": "display_data"
    }
   ],
   "source": [
    "#I'll start by sorting the data frame by average popularity from highest to lowest\n",
    "genre_popularity_df = genre_popularity_df.sort_values(by='Average Popularity', ascending=False)\n",
    "\n",
    "#create a bar chart to visualize the average popularity by the genre\n",
    "plt.figure(figsize=(12, 8))\n",
    "plt.bar(genre_popularity_df['Genre'], genre_popularity_df['Average Popularity'], color='skyblue')\n",
    "plt.xlabel('Genre')\n",
    "plt.ylabel('Average Popularity')\n",
    "plt.title('Average Popularity by Genre')\n",
    "plt.xticks(rotation=45, ha='right')\n",
    "plt.tight_layout()\n",
    "plt.show()"
   ]
  },
  {
   "cell_type": "markdown",
   "id": "0a57d9f8",
   "metadata": {},
   "source": [
    "###### Interpretation"
   ]
  },
  {
   "cell_type": "markdown",
   "id": "5fa8aca6",
   "metadata": {},
   "source": [
    "Movie genres that people are more inclined to be popular are movies that involve wars, sport, family, music and fantasy. Therefore to achieve a good rating in the film industry those are the 5 genres to focus on. The least popular are the mystery, adventure and history so therefore the downturn could be in focusing in those areas."
   ]
  },
  {
   "cell_type": "markdown",
   "id": "9d72d1f4",
   "metadata": {},
   "source": [
    "## Top 20 Directors"
   ]
  },
  {
   "cell_type": "code",
   "execution_count": 118,
   "id": "2ec96099",
   "metadata": {},
   "outputs": [
    {
     "data": {
      "image/png": "[encoded data removed]",
      "text/plain": [
       "<Figure size 1200x600 with 1 Axes>"
      ]
     },
     "metadata": {},
     "output_type": "display_data"
    }
   ],
   "source": [
    "director_names = top_20_people['director_name'].astype(str)\n",
    "average_ratings = top_20_people['averagerating']\n",
    "\n",
    "plt.figure(figsize=(12, 6))\n",
    "plt.barh( director_names, average_ratings, color='cyan')\n",
    "plt.xlabel('Average Rating')\n",
    "plt.ylabel('Director Name')\n",
    "plt.title('Top 20 Directors by Average Rating')\n",
    "plt.tight_layout()\n",
    "plt.show()"
   ]
  },
  {
   "cell_type": "markdown",
   "id": "1d43b54c",
   "metadata": {},
   "source": [
    "### Top 20 Writers"
   ]
  },
  {
   "cell_type": "code",
   "execution_count": 119,
   "id": "58d5ef82",
   "metadata": {},
   "outputs": [
    {
     "data": {
      "image/png": "[encoded data removed]",
      "text/plain": [
       "<Figure size 1200x600 with 1 Axes>"
      ]
     },
     "metadata": {},
     "output_type": "display_data"
    }
   ],
   "source": [
    "writer_names = top_20_people['writer_name'].astype(str)\n",
    "average_ratings = top_20_people['averagerating']\n",
    "\n",
    "plt.figure(figsize=(12, 6))\n",
    "plt.barh( writer_names, average_ratings, color='coral')\n",
    "plt.xlabel('Average Rating')\n",
    "plt.ylabel('Writer Name')\n",
    "plt.title('Top 20 Writers by Average Rating')\n",
    "plt.tight_layout()\n",
    "plt.show()"
   ]
  },
  {
   "cell_type": "code",
   "execution_count": 120,
   "id": "1741b135",
   "metadata": {},
   "outputs": [
    {
     "data": {
      "image/png": "[encoded data removed]",
      "text/plain": [
       "<Figure size 1600x600 with 2 Axes>"
      ]
     },
     "metadata": {},
     "output_type": "display_data"
    }
   ],
   "source": [
    "fig,(ax1, ax2) = plt.subplots(1, 2, figsize=(16, 6))\n",
    "\n",
    "#Plotting for writers\n",
    "ax1.barh(writer_names, average_ratings, color='coral')\n",
    "ax1.set_xlabel('Average Rating')\n",
    "ax1.set_ylabel('Writer Name')\n",
    "ax1.set_title('Top 20 Writers')\n",
    "\n",
    "#Plotting for directors\n",
    "ax2.barh(director_names, average_ratings, color='cyan')\n",
    "ax2.set_xlabel('Average Rating')\n",
    "ax2.set_ylabel('Director Name')\n",
    "ax2.set_title('Top 20 Directors')\n",
    "\n",
    "#Adjusting the layout\n",
    "plt.tight_layout()\n",
    "plt.show()"
   ]
  },
  {
   "cell_type": "markdown",
   "id": "9982a2f8",
   "metadata": {},
   "source": [
    "###### Interpretation"
   ]
  },
  {
   "cell_type": "markdown",
   "id": "85b38423",
   "metadata": {},
   "source": [
    "From the bar chart we can see that most writers actually directed the movies therefore people prefer movies based of books rather than their own creativity especially if the writer is involved in the creation of the movie. To make a movie successful high chances are the movie is based on a popular bookk and they are involved in the creation of the movie."
   ]
  },
  {
   "cell_type": "code",
   "execution_count": null,
   "id": "51c53152",
   "metadata": {},
   "outputs": [],
   "source": []
  }
 ],
 "metadata": {
  "kernelspec": {
   "display_name": "Python (learn-env)",
   "language": "python",
   "name": "learn-env"
  },
  "language_info": {
   "codemirror_mode": {
    "name": "ipython",
    "version": 3
   },
   "file_extension": ".py",
   "mimetype": "text/x-python",
   "name": "python",
   "nbconvert_exporter": "python",
   "pygments_lexer": "ipython3",
   "version": "3.11.4"
  }
 },
 "nbformat": 4,
 "nbformat_minor": 5
}
